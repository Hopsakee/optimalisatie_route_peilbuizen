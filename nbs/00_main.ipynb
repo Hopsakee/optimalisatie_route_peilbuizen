{
 "cells": [
  {
   "cell_type": "markdown",
   "metadata": {},
   "source": [
    "# Main\n",
    "\n",
    "> Module die alle functies die nodig zijn om de snelste route te vinden langs alle peilbuizen gegroepeerd per project."
   ]
  },
  {
   "cell_type": "markdown",
   "metadata": {},
   "source": [
    "In de huidige code gebruiken we de Openrouteservice API die publiekelijk gehost wordt. Deze heeft een aantal restricties. Zie https://openrouteservice.org/restrictions/.\n",
    "De enige restrictie waar we in deze code last van hebben is het maximaal aantal locaties dat meegenomen kan worden in de optimalisatie. Volgens de documentatie is dat 50. Maar uit mijn testen blijkt het 70 te zijn.\n",
    "\n",
    "Verder gebruiken we de Python client (https://openrouteservice-py.readthedocs.io/en/latest/) en construeren we dus niet zelf de curl calls."
   ]
  },
  {
   "cell_type": "code",
   "execution_count": null,
   "metadata": {},
   "outputs": [],
   "source": [
    "#| default_exp main"
   ]
  },
  {
   "cell_type": "code",
   "execution_count": null,
   "metadata": {},
   "outputs": [],
   "source": [
    "#| hide\n",
    "from nbdev.showdoc import *"
   ]
  },
  {
   "cell_type": "code",
   "execution_count": null,
   "metadata": {},
   "outputs": [],
   "source": [
    "#| export\n",
    "import yaml\n",
    "import pandas as pd\n",
    "import logging\n",
    "from datetime import datetime\n",
    "from fastcore.utils import Path\n",
    "from tqdm import tqdm\n",
    "\n",
    "from project.data_get import get_data_from_azuresql, load_pickle\n",
    "from project.route_get import create_optimized_route\n",
    "from project.data_export import get_waypoint_coords, convert_routejson_to_df, create_route_prev_next, google_maps_route_url\n",
    "from project.utils import get_project_root, make_filesystem_friendly, save_route_url, setup_logging"
   ]
  },
  {
   "cell_type": "markdown",
   "metadata": {},
   "source": [
    "Get the settings from the settings.yaml file."
   ]
  },
  {
   "cell_type": "code",
   "execution_count": null,
   "metadata": {},
   "outputs": [],
   "source": [
    "#| export\n",
    "project_root = get_project_root()\n",
    "\n",
    "with open(project_root / 'settings.yaml', 'r') as f:\n",
    "    settings = yaml.safe_load(f)"
   ]
  },
  {
   "cell_type": "markdown",
   "metadata": {},
   "source": [
    "Get the data from the Azure SQL database in a pandas DataFrame or from a previously stored pickle file."
   ]
  },
  {
   "cell_type": "code",
   "execution_count": null,
   "metadata": {},
   "outputs": [],
   "source": [
    "#| export\n",
    "use_pickle=True\n",
    "\n",
    "if use_pickle:\n",
    "    peilbuizen_df = load_pickle(settings['files']['pickle_file_input'])\n",
    "else:\n",
    "    peilbuizen_df = get_data_from_azuresql(sql_statement=settings['sql_statement']['peilbuizen'], \n",
    "                                       save_to_pickle=settings['files']['save_to_pickle'])\n",
    "\n",
    "df_grouped = peilbuizen_df.groupby('project')"
   ]
  },
  {
   "cell_type": "code",
   "execution_count": null,
   "metadata": {},
   "outputs": [
    {
     "data": {
      "text/plain": [
       "dict_keys(['---', 'Bagger Dedemsvaart', 'Baggeren Beilervaart', 'Beekmaatregelen Reest', 'Boetelerveld_nw', 'Brongeb VL-AA', 'Dijken', 'Droogte Onderzoek NL fase 2 - bodemvochtmetingen', 'Droogtemeetnet WDOD', 'Ecologisch Effect Beekherstel Middenloop Vledder Aa Fase 1', 'Holtingerveld _Ootmaanlanden en Koningschut', 'Inrichting Dwingelderveld', 'Koekoekspolder grondwatermeetnet', 'Mastenbroek-IJssel', 'Meetnet De Wijk II', 'Nieuwveense landen', 'Nijstad Hoogeveen', 'Olde Maten en Veerslootlanden', 'Oldematen Reevediep', 'Oude Diep', 'Oude Diep Mantinge Bos_Zand', 'Oude Diep_Roode Brand', 'Oude Willem', 'Overijsselskanaal Deventer-Raalte', 'Paddenpol Zwolle-Olst', 'Primair meetnet blok 1', 'Primair meetnet blok 2', 'Primair meetnet blok 3', 'Randzone Ossenzijl Steenwijk', 'Reevediep', 'Reparatie meetpunten', 'Steenwijk_Kallenkote', 'Varsenerveld', 'Vecht', 'Vechterweerd', 'Vledder en Leierhooilanden', 'Wabos-KRW', 'ZUIDWOLDE-ZUID', 'Zandwetering Olst-Zuid_waterberging', 'dijken Stadsdijken Zwolle', 'effecten op WHH van gaswinning de Wijk II', 'peilbesluit Kostverlorenzijl en Kloosterzijl', 'peilbesluit de Kruimels', 'stedelijk Zwolle', 'zandwinplassen'])"
      ]
     },
     "execution_count": null,
     "metadata": {},
     "output_type": "execute_result"
    }
   ],
   "source": [
    "#| hide\n",
    "df_grouped.groups.keys()"
   ]
  },
  {
   "cell_type": "code",
   "execution_count": null,
   "metadata": {},
   "outputs": [],
   "source": [
    "#| hide\n",
    "# Test one project group\n",
    "test_df_group = df_grouped.get_group('Primair meetnet blok 2')\n",
    "test_name_group = 'Blok 2'\n",
    "\n",
    "# Test random sample\n",
    "df_random_test = peilbuizen_df.sample(n=100)"
   ]
  },
  {
   "cell_type": "code",
   "execution_count": null,
   "metadata": {},
   "outputs": [
    {
     "data": {
      "text/html": [
       "<div>\n",
       "<style scoped>\n",
       "    .dataframe tbody tr th:only-of-type {\n",
       "        vertical-align: middle;\n",
       "    }\n",
       "\n",
       "    .dataframe tbody tr th {\n",
       "        vertical-align: top;\n",
       "    }\n",
       "\n",
       "    .dataframe thead th {\n",
       "        text-align: right;\n",
       "    }\n",
       "</style>\n",
       "<table border=\"1\" class=\"dataframe\">\n",
       "  <thead>\n",
       "    <tr style=\"text-align: right;\">\n",
       "      <th></th>\n",
       "      <th>Id</th>\n",
       "      <th>Longitude</th>\n",
       "      <th>latitude</th>\n",
       "      <th>latest_measure_date</th>\n",
       "      <th>project</th>\n",
       "    </tr>\n",
       "  </thead>\n",
       "  <tbody>\n",
       "    <tr>\n",
       "      <th>241</th>\n",
       "      <td>27GC901A;408995</td>\n",
       "      <td>6.180674</td>\n",
       "      <td>52.359436</td>\n",
       "      <td>2024-04-03 10:55:02</td>\n",
       "      <td>---</td>\n",
       "    </tr>\n",
       "    <tr>\n",
       "      <th>242</th>\n",
       "      <td>27HC007B;410283</td>\n",
       "      <td>6.202980</td>\n",
       "      <td>52.306282</td>\n",
       "      <td>2024-11-04 11:26:39</td>\n",
       "      <td>---</td>\n",
       "    </tr>\n",
       "    <tr>\n",
       "      <th>296</th>\n",
       "      <td>21FC011A;394286</td>\n",
       "      <td>6.207653</td>\n",
       "      <td>52.601814</td>\n",
       "      <td>2024-04-09 09:51:57</td>\n",
       "      <td>---</td>\n",
       "    </tr>\n",
       "    <tr>\n",
       "      <th>389</th>\n",
       "      <td>B21E0010;416303</td>\n",
       "      <td>6.181055</td>\n",
       "      <td>52.613954</td>\n",
       "      <td>2024-04-09 10:43:36</td>\n",
       "      <td>---</td>\n",
       "    </tr>\n",
       "    <tr>\n",
       "      <th>451</th>\n",
       "      <td>B21F0003;416597</td>\n",
       "      <td>6.219551</td>\n",
       "      <td>52.650246</td>\n",
       "      <td>2024-04-09 10:57:31</td>\n",
       "      <td>---</td>\n",
       "    </tr>\n",
       "  </tbody>\n",
       "</table>\n",
       "</div>"
      ],
      "text/plain": [
       "                  Id  Longitude   latitude latest_measure_date project\n",
       "241  27GC901A;408995   6.180674  52.359436 2024-04-03 10:55:02     ---\n",
       "242  27HC007B;410283   6.202980  52.306282 2024-11-04 11:26:39     ---\n",
       "296  21FC011A;394286   6.207653  52.601814 2024-04-09 09:51:57     ---\n",
       "389  B21E0010;416303   6.181055  52.613954 2024-04-09 10:43:36     ---\n",
       "451  B21F0003;416597   6.219551  52.650246 2024-04-09 10:57:31     ---"
      ]
     },
     "execution_count": null,
     "metadata": {},
     "output_type": "execute_result"
    }
   ],
   "source": [
    "#| hide\n",
    "test_df_group.head()"
   ]
  },
  {
   "cell_type": "code",
   "execution_count": null,
   "metadata": {},
   "outputs": [
    {
     "data": {
      "text/html": [
       "<div>\n",
       "<style scoped>\n",
       "    .dataframe tbody tr th:only-of-type {\n",
       "        vertical-align: middle;\n",
       "    }\n",
       "\n",
       "    .dataframe tbody tr th {\n",
       "        vertical-align: top;\n",
       "    }\n",
       "\n",
       "    .dataframe thead th {\n",
       "        text-align: right;\n",
       "    }\n",
       "</style>\n",
       "<table border=\"1\" class=\"dataframe\">\n",
       "  <thead>\n",
       "    <tr style=\"text-align: right;\">\n",
       "      <th></th>\n",
       "      <th>Id</th>\n",
       "      <th>Longitude</th>\n",
       "      <th>latitude</th>\n",
       "      <th>latest_measure_date</th>\n",
       "      <th>project</th>\n",
       "    </tr>\n",
       "  </thead>\n",
       "  <tbody>\n",
       "    <tr>\n",
       "      <th>69</th>\n",
       "      <td>17AG505B;1326608</td>\n",
       "      <td>6.429767</td>\n",
       "      <td>52.880327</td>\n",
       "      <td>2024-09-23 11:24:03</td>\n",
       "      <td>None</td>\n",
       "    </tr>\n",
       "    <tr>\n",
       "      <th>485</th>\n",
       "      <td>17AG303C;1326553</td>\n",
       "      <td>6.398754</td>\n",
       "      <td>52.901672</td>\n",
       "      <td>2024-07-03 11:03:49</td>\n",
       "      <td>None</td>\n",
       "    </tr>\n",
       "    <tr>\n",
       "      <th>634</th>\n",
       "      <td>16DG903A;931512</td>\n",
       "      <td>6.050345</td>\n",
       "      <td>52.793872</td>\n",
       "      <td>2025-01-06 11:30:58</td>\n",
       "      <td>None</td>\n",
       "    </tr>\n",
       "    <tr>\n",
       "      <th>609</th>\n",
       "      <td>PB06-2;996646</td>\n",
       "      <td>5.866160</td>\n",
       "      <td>52.584272</td>\n",
       "      <td>2024-05-02 11:44:07</td>\n",
       "      <td>None</td>\n",
       "    </tr>\n",
       "    <tr>\n",
       "      <th>579</th>\n",
       "      <td>NPD-PB3D;40517</td>\n",
       "      <td>6.377796</td>\n",
       "      <td>52.776438</td>\n",
       "      <td>2024-08-30 08:10:28</td>\n",
       "      <td>Wabos-KRW</td>\n",
       "    </tr>\n",
       "  </tbody>\n",
       "</table>\n",
       "</div>"
      ],
      "text/plain": [
       "                   Id  Longitude   latitude latest_measure_date    project\n",
       "69   17AG505B;1326608   6.429767  52.880327 2024-09-23 11:24:03       None\n",
       "485  17AG303C;1326553   6.398754  52.901672 2024-07-03 11:03:49       None\n",
       "634   16DG903A;931512   6.050345  52.793872 2025-01-06 11:30:58       None\n",
       "609     PB06-2;996646   5.866160  52.584272 2024-05-02 11:44:07       None\n",
       "579    NPD-PB3D;40517   6.377796  52.776438 2024-08-30 08:10:28  Wabos-KRW"
      ]
     },
     "execution_count": null,
     "metadata": {},
     "output_type": "execute_result"
    }
   ],
   "source": [
    "#| hide\n",
    "df_random_test.head()"
   ]
  },
  {
   "cell_type": "markdown",
   "metadata": {},
   "source": [
    "For every project in the peilbuizen dataframe, the shortest route is calculated and saved to an Excel file and a URL file."
   ]
  },
  {
   "cell_type": "code",
   "execution_count": null,
   "metadata": {},
   "outputs": [],
   "source": [
    "#| export\n",
    "\n",
    "def create_group_route(start_address: str, # De startlocatie en eindlocatie opgegeven als adres\n",
    "                       group_df: pd.DataFrame, # De pandas dataframe met peilbuizen in de groep, bijv. op basis van project\n",
    "                       route_profile: str, # Het route profiel (transport methode) waarvoor de route berekend moet worden\n",
    "                       project_name: str, # Naam van de groep, bijv. Project Vecht\n",
    "                       output_dir: str = 'output', # Locatie waar de resultaten en log-file opgeslagen worden. Als niks wordt opgegeven komen de resultaten in de output folder.\n",
    "                       current_date: str = None, # De datum. Als niks wordt opgegeven, wordt de huidige datum gebruikt.\n",
    "                       ) -> None:\n",
    "    \"\"\"\n",
    "    Create optimized route for a group and save results\n",
    "    \"\"\"\n",
    "    if current_date is None:\n",
    "        current_date = datetime.now().strftime('%Y-%m-%d')\n",
    "        \n",
    "    # Create output directory\n",
    "    output_path = Path(output_dir)\n",
    "    output_path.mkdir(parents=True, exist_ok=True)\n",
    "    \n",
    "    try:\n",
    "        # Get optimized route\n",
    "        route_json = create_optimized_route(start_address, group_df, route_profile)\n",
    "        route_coords = get_waypoint_coords(route_json)\n",
    "        \n",
    "        # Create route dataframe\n",
    "        optimized_route = convert_routejson_to_df(route_coords, group_df)\n",
    "        route_table = create_route_prev_next(optimized_route)\n",
    "        \n",
    "        # Create filenames\n",
    "        safe_project_name = make_filesystem_friendly(project_name)\n",
    "        base_filename = f\"peilbuizenroute_{safe_project_name}_{current_date}\"\n",
    "        \n",
    "        # Save Excel file\n",
    "        excel_path = output_path / f\"{base_filename}.xlsx\"\n",
    "        route_table.to_excel(excel_path)\n",
    "        \n",
    "        # Save URL shortcut\n",
    "        url = google_maps_route_url(route_coords)\n",
    "        save_route_url(url, output_dir, f\"{base_filename}.url\")\n",
    "        \n",
    "    except Exception as e:\n",
    "        print(f\"Error processing group {project_name}: {str(e)}\")"
   ]
  },
  {
   "cell_type": "code",
   "execution_count": null,
   "metadata": {},
   "outputs": [
    {
     "name": "stdout",
     "output_type": "stream",
     "text": [
      "Error processing group Blok 2: 413 ({'code': 4, 'error': 'Too many locations ( 93 ) in query, maximum is set to 70'})\n"
     ]
    }
   ],
   "source": [
    "#| hide\n",
    "create_group_route(start_address=settings['calculation']['startlocation'],\n",
    "                    group_df=test_df_group,\n",
    "                    route_profile=settings['calculation']['distance_calculation_method'],\n",
    "                    project_name=test_name_group,\n",
    "                    output_dir=Path(settings['files']['path_results']) / 'test')\n"
   ]
  },
  {
   "cell_type": "code",
   "execution_count": null,
   "metadata": {},
   "outputs": [],
   "source": [
    "#| export\n",
    "\n",
    "def process_peilbuizen_routes(df: pd.DataFrame, # Dataframe van alle peilbuis groepen waarvoor route berekend wordt\n",
    "                            start_address: str, # De startlocatie en eindlocatie opgegeven als adres\n",
    "                            route_profile: str, # De route profiel (transport methode) waarvoor de route berekend moet worden\n",
    "                            output_dir: str = 'output' # Locatie waar de resultaten en log-file opgeslagen worden. Als niks wordt opgegeven komen de resultaten in de output folder.\n",
    "                            ) -> None:\n",
    "    \"\"\"\n",
    "    Process peilbuizen dataframe, create optimized routes for each group,\n",
    "    and save results to Excel and URL files\n",
    "    \n",
    "    Args:\n",
    "        df: DataFrame with peilbuizen data\n",
    "        start_address: Starting location address\n",
    "        route_profile: De route profiel (transport methode) waarvoor de route berekend moet worden\n",
    "        output_dir: Directory to save output files\n",
    "    \"\"\"\n",
    "    # Create output directory and setup logging\n",
    "    output_path = Path(output_dir)\n",
    "    output_path.mkdir(parents=True, exist_ok=True)\n",
    "    current_date = datetime.now().strftime('%Y-%m-%d')\n",
    "    logger = setup_logging(output_dir, current_date)\n",
    "        \n",
    "    # Process each group\n",
    "    grouped = df.groupby('project')\n",
    "    total_groups = len(grouped)\n",
    "    \n",
    "    for project_name, group_df in tqdm(grouped, total=total_groups,desc=\"Processing peilbuis routes per project.\"):\n",
    "        if len(group_df) < 4:\n",
    "            msg = f\"Project {project_name} heeft 3 of minder locaties. Optimale route uitrekenen is zinloos.\"\n",
    "            print(msg)\n",
    "            logger.info(msg)\n",
    "        elif len(group_df) > 70:\n",
    "            msg = f\"Project {project_name} heeft meer dan 70 locaties. Optimale route uitrekenen is niet mogelijk op de publieke Openrouteservice. Oplossing: verdeel het project in kleinere delen, zet de Openrouteservice op eigen omgeving.\"\n",
    "            print(msg)\n",
    "            logger.info(msg)\n",
    "        else:\n",
    "            #TODO: Als deze functie een error returned, dus geen route vindt, komt dat niet in logfiles.\n",
    "            try:\n",
    "                create_group_route(\n",
    "                    start_address=start_address,\n",
    "                    group_df=group_df,\n",
    "                    route_profile=route_profile,\n",
    "                    project_name=project_name,\n",
    "                    output_dir=output_dir,\n",
    "                    current_date=current_date\n",
    "                )\n",
    "                logger.info(f\"Successfully processed route for project: {project_name}\")\n",
    "            except Exception as e:\n",
    "                error_msg = f\"Error processing project {project_name}: {str(e)}\"\n",
    "                print(error_msg)\n",
    "                logger.error(error_msg)"
   ]
  },
  {
   "cell_type": "code",
   "execution_count": null,
   "metadata": {},
   "outputs": [
    {
     "name": "stderr",
     "output_type": "stream",
     "text": [
      "Processing peilbuis routes per project.:   0%|          | 0/45 [00:00<?, ?it/s]2025-01-31 10:16:54:INFO:project.utils:Successfully processed route for project: ---\n",
      "Processing peilbuis routes per project.:   2%|▏         | 1/45 [00:00<00:37,  1.16it/s]2025-01-31 10:16:54:INFO:project.utils:Project Bagger Dedemsvaart heeft 3 of minder locaties. Optimale route uitrekenen is zinloos.\n",
      "2025-01-31 10:16:54:INFO:project.utils:Project Baggeren Beilervaart heeft 3 of minder locaties. Optimale route uitrekenen is zinloos.\n",
      "2025-01-31 10:16:54:INFO:project.utils:Project Beekmaatregelen Reest heeft 3 of minder locaties. Optimale route uitrekenen is zinloos.\n"
     ]
    },
    {
     "name": "stdout",
     "output_type": "stream",
     "text": [
      "Project Bagger Dedemsvaart heeft 3 of minder locaties. Optimale route uitrekenen is zinloos.\n",
      "Project Baggeren Beilervaart heeft 3 of minder locaties. Optimale route uitrekenen is zinloos.\n",
      "Project Beekmaatregelen Reest heeft 3 of minder locaties. Optimale route uitrekenen is zinloos.\n"
     ]
    },
    {
     "name": "stderr",
     "output_type": "stream",
     "text": [
      "2025-01-31 10:16:55:INFO:project.utils:Successfully processed route for project: Boetelerveld_nw\n",
      "Processing peilbuis routes per project.:  11%|█         | 5/45 [00:01<00:11,  3.54it/s]2025-01-31 10:16:55:INFO:project.utils:Project Brongeb VL-AA heeft 3 of minder locaties. Optimale route uitrekenen is zinloos.\n"
     ]
    },
    {
     "name": "stdout",
     "output_type": "stream",
     "text": [
      "Project Brongeb VL-AA heeft 3 of minder locaties. Optimale route uitrekenen is zinloos.\n"
     ]
    },
    {
     "name": "stderr",
     "output_type": "stream",
     "text": [
      "2025-01-31 10:16:56:INFO:project.utils:Successfully processed route for project: Dijken\n",
      "Processing peilbuis routes per project.:  16%|█▌        | 7/45 [00:02<00:15,  2.51it/s]2025-01-31 10:16:56:INFO:project.utils:Project Droogte Onderzoek NL fase 2 - bodemvochtmetingen heeft 3 of minder locaties. Optimale route uitrekenen is zinloos.\n",
      "2025-01-31 10:16:56:INFO:project.utils:Project Droogtemeetnet WDOD heeft 3 of minder locaties. Optimale route uitrekenen is zinloos.\n"
     ]
    },
    {
     "name": "stdout",
     "output_type": "stream",
     "text": [
      "Project Droogte Onderzoek NL fase 2 - bodemvochtmetingen heeft 3 of minder locaties. Optimale route uitrekenen is zinloos.\n",
      "Project Droogtemeetnet WDOD heeft 3 of minder locaties. Optimale route uitrekenen is zinloos.\n"
     ]
    },
    {
     "name": "stderr",
     "output_type": "stream",
     "text": [
      "2025-01-31 10:16:57:INFO:project.utils:Successfully processed route for project: Ecologisch Effect Beekherstel Middenloop Vledder Aa Fase 1\n",
      "Processing peilbuis routes per project.:  22%|██▏       | 10/45 [00:03<00:12,  2.75it/s]2025-01-31 10:16:58:INFO:project.utils:Successfully processed route for project: Holtingerveld _Ootmaanlanden en Koningschut\n",
      "Processing peilbuis routes per project.:  24%|██▍       | 11/45 [00:04<00:16,  2.09it/s]2025-01-31 10:16:58:INFO:project.utils:Project Inrichting Dwingelderveld heeft 3 of minder locaties. Optimale route uitrekenen is zinloos.\n",
      "2025-01-31 10:16:58:INFO:project.utils:Project Koekoekspolder grondwatermeetnet heeft 3 of minder locaties. Optimale route uitrekenen is zinloos.\n"
     ]
    },
    {
     "name": "stdout",
     "output_type": "stream",
     "text": [
      "Project Inrichting Dwingelderveld heeft 3 of minder locaties. Optimale route uitrekenen is zinloos.\n",
      "Project Koekoekspolder grondwatermeetnet heeft 3 of minder locaties. Optimale route uitrekenen is zinloos.\n"
     ]
    },
    {
     "name": "stderr",
     "output_type": "stream",
     "text": [
      "2025-01-31 10:16:59:INFO:project.utils:Successfully processed route for project: Mastenbroek-IJssel\n",
      "Processing peilbuis routes per project.:  31%|███       | 14/45 [00:05<00:12,  2.54it/s]2025-01-31 10:16:59:INFO:project.utils:Project Meetnet De Wijk II heeft 3 of minder locaties. Optimale route uitrekenen is zinloos.\n",
      "2025-01-31 10:16:59:INFO:project.utils:Project Nieuwveense landen heeft 3 of minder locaties. Optimale route uitrekenen is zinloos.\n"
     ]
    },
    {
     "name": "stdout",
     "output_type": "stream",
     "text": [
      "Project Meetnet De Wijk II heeft 3 of minder locaties. Optimale route uitrekenen is zinloos.\n",
      "Project Nieuwveense landen heeft 3 of minder locaties. Optimale route uitrekenen is zinloos.\n"
     ]
    },
    {
     "name": "stderr",
     "output_type": "stream",
     "text": [
      "2025-01-31 10:17:00:INFO:project.utils:Successfully processed route for project: Nijstad Hoogeveen\n",
      "Processing peilbuis routes per project.:  38%|███▊      | 17/45 [00:06<00:10,  2.76it/s]2025-01-31 10:17:01:INFO:project.utils:Successfully processed route for project: Olde Maten en Veerslootlanden\n",
      "Processing peilbuis routes per project.:  40%|████      | 18/45 [00:07<00:13,  2.05it/s]2025-01-31 10:17:02:INFO:project.utils:Successfully processed route for project: Oldematen Reevediep\n",
      "Processing peilbuis routes per project.:  42%|████▏     | 19/45 [00:08<00:14,  1.75it/s]2025-01-31 10:17:02:INFO:project.utils:Project Oude Diep heeft 3 of minder locaties. Optimale route uitrekenen is zinloos.\n"
     ]
    },
    {
     "name": "stdout",
     "output_type": "stream",
     "text": [
      "Project Oude Diep heeft 3 of minder locaties. Optimale route uitrekenen is zinloos.\n"
     ]
    },
    {
     "name": "stderr",
     "output_type": "stream",
     "text": [
      "2025-01-31 10:17:03:INFO:project.utils:Successfully processed route for project: Oude Diep Mantinge Bos_Zand\n",
      "Processing peilbuis routes per project.:  47%|████▋     | 21/45 [00:09<00:14,  1.70it/s]2025-01-31 10:17:04:INFO:project.utils:Successfully processed route for project: Oude Diep_Roode Brand\n",
      "Processing peilbuis routes per project.:  49%|████▉     | 22/45 [00:10<00:15,  1.51it/s]2025-01-31 10:17:06:INFO:project.utils:Successfully processed route for project: Oude Willem\n",
      "Processing peilbuis routes per project.:  51%|█████     | 23/45 [00:12<00:19,  1.12it/s]2025-01-31 10:17:06:INFO:project.utils:Project Overijsselskanaal Deventer-Raalte heeft 3 of minder locaties. Optimale route uitrekenen is zinloos.\n",
      "2025-01-31 10:17:06:INFO:project.utils:Project Paddenpol Zwolle-Olst heeft 3 of minder locaties. Optimale route uitrekenen is zinloos.\n",
      "2025-01-31 10:17:06:INFO:project.utils:Project Primair meetnet blok 1 heeft meer dan 50 locaties. Optimale route uitrekenen is niet mogelijk op de publieke Openrouteservice. Oplossing: verdeel het project in kleinere delen, zet de Openrouteservice op eigen omgeving.\n",
      "2025-01-31 10:17:06:INFO:project.utils:Project Primair meetnet blok 2 heeft meer dan 50 locaties. Optimale route uitrekenen is niet mogelijk op de publieke Openrouteservice. Oplossing: verdeel het project in kleinere delen, zet de Openrouteservice op eigen omgeving.\n",
      "2025-01-31 10:17:06:INFO:project.utils:Project Primair meetnet blok 3 heeft meer dan 50 locaties. Optimale route uitrekenen is niet mogelijk op de publieke Openrouteservice. Oplossing: verdeel het project in kleinere delen, zet de Openrouteservice op eigen omgeving.\n",
      "2025-01-31 10:17:06:INFO:project.utils:Project Randzone Ossenzijl Steenwijk heeft 3 of minder locaties. Optimale route uitrekenen is zinloos.\n"
     ]
    },
    {
     "name": "stdout",
     "output_type": "stream",
     "text": [
      "Project Overijsselskanaal Deventer-Raalte heeft 3 of minder locaties. Optimale route uitrekenen is zinloos.\n",
      "Project Paddenpol Zwolle-Olst heeft 3 of minder locaties. Optimale route uitrekenen is zinloos.\n",
      "Project Primair meetnet blok 1 heeft meer dan 50 locaties. Optimale route uitrekenen is niet mogelijk op de publieke Openrouteservice. Oplossing: verdeel het project in kleinere delen, zet de Openrouteservice op eigen omgeving.\n",
      "Project Primair meetnet blok 2 heeft meer dan 50 locaties. Optimale route uitrekenen is niet mogelijk op de publieke Openrouteservice. Oplossing: verdeel het project in kleinere delen, zet de Openrouteservice op eigen omgeving.\n",
      "Project Primair meetnet blok 3 heeft meer dan 50 locaties. Optimale route uitrekenen is niet mogelijk op de publieke Openrouteservice. Oplossing: verdeel het project in kleinere delen, zet de Openrouteservice op eigen omgeving.\n",
      "Project Randzone Ossenzijl Steenwijk heeft 3 of minder locaties. Optimale route uitrekenen is zinloos.\n"
     ]
    },
    {
     "name": "stderr",
     "output_type": "stream",
     "text": [
      "2025-01-31 10:17:06:INFO:project.utils:Successfully processed route for project: Reevediep\n",
      "Processing peilbuis routes per project.:  67%|██████▋   | 30/45 [00:13<00:05,  2.92it/s]2025-01-31 10:17:07:INFO:project.utils:Successfully processed route for project: Reparatie meetpunten\n",
      "Processing peilbuis routes per project.:  69%|██████▉   | 31/45 [00:14<00:05,  2.45it/s]2025-01-31 10:17:07:INFO:project.utils:Project Steenwijk_Kallenkote heeft 3 of minder locaties. Optimale route uitrekenen is zinloos.\n",
      "2025-01-31 10:17:07:INFO:project.utils:Project Varsenerveld heeft 3 of minder locaties. Optimale route uitrekenen is zinloos.\n"
     ]
    },
    {
     "name": "stdout",
     "output_type": "stream",
     "text": [
      "Project Steenwijk_Kallenkote heeft 3 of minder locaties. Optimale route uitrekenen is zinloos.\n",
      "Project Varsenerveld heeft 3 of minder locaties. Optimale route uitrekenen is zinloos.\n"
     ]
    },
    {
     "name": "stderr",
     "output_type": "stream",
     "text": [
      "2025-01-31 10:17:09:INFO:project.utils:Successfully processed route for project: Vecht\n",
      "Processing peilbuis routes per project.:  76%|███████▌  | 34/45 [00:15<00:04,  2.38it/s]2025-01-31 10:17:09:INFO:project.utils:Project Vechterweerd heeft 3 of minder locaties. Optimale route uitrekenen is zinloos.\n"
     ]
    },
    {
     "name": "stdout",
     "output_type": "stream",
     "text": [
      "Project Vechterweerd heeft 3 of minder locaties. Optimale route uitrekenen is zinloos.\n"
     ]
    },
    {
     "name": "stderr",
     "output_type": "stream",
     "text": [
      "2025-01-31 10:17:09:INFO:project.utils:Successfully processed route for project: Vledder en Leierhooilanden\n",
      "Processing peilbuis routes per project.:  80%|████████  | 36/45 [00:16<00:03,  2.57it/s]2025-01-31 10:17:10:INFO:project.utils:Successfully processed route for project: Wabos-KRW\n",
      "Processing peilbuis routes per project.:  82%|████████▏ | 37/45 [00:17<00:04,  1.90it/s]2025-01-31 10:17:10:INFO:project.utils:Project ZUIDWOLDE-ZUID heeft 3 of minder locaties. Optimale route uitrekenen is zinloos.\n",
      "2025-01-31 10:17:10:INFO:project.utils:Project Zandwetering Olst-Zuid_waterberging heeft 3 of minder locaties. Optimale route uitrekenen is zinloos.\n",
      "2025-01-31 10:17:10:INFO:project.utils:Project dijken Stadsdijken Zwolle heeft 3 of minder locaties. Optimale route uitrekenen is zinloos.\n",
      "2025-01-31 10:17:10:INFO:project.utils:Project effecten op WHH van gaswinning de Wijk II heeft 3 of minder locaties. Optimale route uitrekenen is zinloos.\n"
     ]
    },
    {
     "name": "stdout",
     "output_type": "stream",
     "text": [
      "Project ZUIDWOLDE-ZUID heeft 3 of minder locaties. Optimale route uitrekenen is zinloos.\n",
      "Project Zandwetering Olst-Zuid_waterberging heeft 3 of minder locaties. Optimale route uitrekenen is zinloos.\n",
      "Project dijken Stadsdijken Zwolle heeft 3 of minder locaties. Optimale route uitrekenen is zinloos.\n",
      "Project effecten op WHH van gaswinning de Wijk II heeft 3 of minder locaties. Optimale route uitrekenen is zinloos.\n"
     ]
    },
    {
     "name": "stderr",
     "output_type": "stream",
     "text": [
      "2025-01-31 10:17:11:INFO:project.utils:Successfully processed route for project: peilbesluit Kostverlorenzijl en Kloosterzijl\n",
      "Processing peilbuis routes per project.:  93%|█████████▎| 42/45 [00:18<00:00,  3.06it/s]2025-01-31 10:17:11:INFO:project.utils:Project peilbesluit de Kruimels heeft 3 of minder locaties. Optimale route uitrekenen is zinloos.\n",
      "2025-01-31 10:17:11:INFO:project.utils:Project stedelijk Zwolle heeft 3 of minder locaties. Optimale route uitrekenen is zinloos.\n"
     ]
    },
    {
     "name": "stdout",
     "output_type": "stream",
     "text": [
      "Project peilbesluit de Kruimels heeft 3 of minder locaties. Optimale route uitrekenen is zinloos.\n",
      "Project stedelijk Zwolle heeft 3 of minder locaties. Optimale route uitrekenen is zinloos.\n"
     ]
    },
    {
     "name": "stderr",
     "output_type": "stream",
     "text": [
      "2025-01-31 10:17:12:INFO:project.utils:Successfully processed route for project: zandwinplassen\n",
      "Processing peilbuis routes per project.: 100%|██████████| 45/45 [00:19<00:00,  2.35it/s]\n"
     ]
    }
   ],
   "source": [
    "#| export\n",
    "\n",
    "process_peilbuizen_routes(df=peilbuizen_df,\n",
    "                         start_address=settings['calculation']['startlocation'],\n",
    "                         route_profile=settings['calculation']['distance_calculation_method'],\n",
    "                         output_dir=settings['files']['path_results'])"
   ]
  },
  {
   "cell_type": "code",
   "execution_count": null,
   "metadata": {},
   "outputs": [],
   "source": [
    "#| hide\n",
    "import nbdev; nbdev.nbdev_export()"
   ]
  }
 ],
 "metadata": {
  "kernelspec": {
   "display_name": "python3",
   "language": "python",
   "name": "python3"
  }
 },
 "nbformat": 4,
 "nbformat_minor": 4
}
