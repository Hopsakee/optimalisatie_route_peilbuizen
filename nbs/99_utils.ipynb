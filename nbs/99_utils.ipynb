{
 "cells": [
  {
   "cell_type": "markdown",
   "metadata": {},
   "source": [
    "# Utils\n",
    "\n",
    "> Module die een aantal praktische functies heeft om het programmeer leven makkelijker te maken."
   ]
  },
  {
   "cell_type": "code",
   "execution_count": 1,
   "metadata": {},
   "outputs": [],
   "source": [
    "#| default_exp utils"
   ]
  },
  {
   "cell_type": "code",
   "execution_count": 2,
   "metadata": {},
   "outputs": [],
   "source": [
    "#| hide\n",
    "from nbdev.showdoc import *"
   ]
  },
  {
   "cell_type": "code",
   "execution_count": 5,
   "metadata": {},
   "outputs": [],
   "source": [
    "#| export\n",
    "import pickle\n",
    "import re\n",
    "import yaml\n",
    "import logging\n",
    "\n",
    "from functools import wraps\n",
    "from datetime import datetime\n",
    "from fastcore.utils import Path"
   ]
  },
  {
   "cell_type": "markdown",
   "metadata": {},
   "source": [
    "Set up logging"
   ]
  },
  {
   "cell_type": "code",
   "execution_count": 6,
   "metadata": {},
   "outputs": [],
   "source": [
    "#| export\n",
    "\n",
    "def setup_logging(output_dir: str, current_date: str = None) -> logging.Logger:\n",
    "    if current_date is None:\n",
    "        current_date = datetime.now().strftime('%Y-%m-%d')\n",
    "    \n",
    "    # Create log file path\n",
    "    log_file = Path(output_dir) / f'logging_{current_date}.log'\n",
    "    \n",
    "    # Reset any existing handlers\n",
    "    logger = logging.getLogger(__name__)\n",
    "    logger.handlers = []\n",
    "    \n",
    "    # Create and configure file handler\n",
    "    file_handler = logging.FileHandler(log_file)\n",
    "    file_handler.setLevel(logging.INFO)\n",
    "    \n",
    "    # Create and set formatter\n",
    "    formatter = logging.Formatter('%(asctime)s - %(levelname)s - %(message)s',\n",
    "                                datefmt='%Y-%m-%d %H:%M:%S')\n",
    "    file_handler.setFormatter(formatter)\n",
    "    \n",
    "    # Configure logger\n",
    "    logger.setLevel(logging.INFO)\n",
    "    logger.addHandler(file_handler)\n",
    "    \n",
    "    return logger"
   ]
  },
  {
   "cell_type": "markdown",
   "metadata": {},
   "source": [
    "Get project root"
   ]
  },
  {
   "cell_type": "code",
   "execution_count": 36,
   "metadata": {},
   "outputs": [],
   "source": [
    "#| export\n",
    "def get_project_root():\n",
    "    current = Path.cwd()\n",
    "    while current.name != current.parent:\n",
    "        if (current / 'setup.py').exists() or (current / 'pyproject.toml').exists():\n",
    "            return current\n",
    "            raise FileNotFoundError('Could not find project root')\n",
    "        current = current.parent\n",
    "    return None"
   ]
  },
  {
   "cell_type": "code",
   "execution_count": 38,
   "metadata": {},
   "outputs": [
    {
     "data": {
      "text/plain": [
       "Path('/home/jelle/code/optimalisatie_route_peilbuizen')"
      ]
     },
     "execution_count": 38,
     "metadata": {},
     "output_type": "execute_result"
    }
   ],
   "source": [
    "#| hide\n",
    "get_project_root()"
   ]
  },
  {
   "cell_type": "markdown",
   "metadata": {},
   "source": [
    "Helper function to load settings into a dictionary."
   ]
  },
  {
   "cell_type": "code",
   "execution_count": 40,
   "metadata": {},
   "outputs": [],
   "source": [
    "#| export\n",
    "def load_settings(settings_yaml: str = 'settings.yaml'): \n",
    "    project_root = get_project_root()\n",
    "\n",
    "    with open(project_root / 'settings.yaml', 'r') as f:\n",
    "        settings = yaml.safe_load(f)\n",
    "    return settings"
   ]
  },
  {
   "cell_type": "markdown",
   "metadata": {},
   "source": [
    "Functie om willekeurige text om te zetten naar text die probleemloos als filename gebruikt kan worden."
   ]
  },
  {
   "cell_type": "code",
   "execution_count": 15,
   "metadata": {},
   "outputs": [],
   "source": [
    "#| export\n",
    "\n",
    "def make_filesystem_friendly(text: str) -> str:\n",
    "    \"\"\"Convert text to filesystem-friendly format\n",
    "    Replaces any sequence of non-alphanumeric chars with single underscore\"\"\"\n",
    "    # Replace non-alphanumeric characters with underscore\n",
    "    text = re.sub(r'[^a-zA-Z0-9]+', '_', text)\n",
    "    # Remove leading/trailing underscores\n",
    "    text = text.strip('_')\n",
    "    # Convert to lowercase\n",
    "    return text.lower()"
   ]
  },
  {
   "cell_type": "markdown",
   "metadata": {},
   "source": [
    "Functie die als een wrapper aan een willekeurige bestaande functie wordt toegevoegd. En de resultaten van die\n",
    "functie wegschrijft naar een pickle file met de naam van de functie en de datum tijd waarop de functie\n",
    "is uitgevoerd."
   ]
  },
  {
   "cell_type": "code",
   "execution_count": 41,
   "metadata": {},
   "outputs": [],
   "source": [
    "#| export\n",
    "\n",
    "def funcresults_to_pickle(path_pickle):\n",
    "    # A wrapper to add the ability to write the results of a function to a pickle file.\n",
    "    # Simply add the decorator above the function and then add the parameter\n",
    "    # save_to_pickle=True to the function call.\n",
    "    def decorator(func):\n",
    "        @wraps(func)\n",
    "        def wrapper(*args, **kwargs):\n",
    "            # Extract pickle parameter if present, default to False\n",
    "            # pop the 'pickle' parameter so it doesn't get passed to the wrapped function unexpectedly.\n",
    "            save_pickle = kwargs.pop('save_to_pickle', False)\n",
    "\n",
    "            print(f\"save_to_pickle: {save_pickle}\")\n",
    "\n",
    "            result = func(*args, **kwargs)\n",
    "            \n",
    "            # Check if path_pickle exists\n",
    "            # Don't create the directory if it doesn't exist, to avoid unnecessary save of files in directories unknown to user\n",
    "            if not Path(path_pickle).is_dir():\n",
    "                raise ValueError(f\"\"\"'{path_pickle}' is not a valid directory. Give a valid directory path to save the pickle results.\\n\n",
    "                                 This can be changed in the parameters.py file.\"\"\")\n",
    "\n",
    "            if save_pickle:\n",
    "                print(f\"Saving results to {path_pickle}\")\n",
    "                timestamp = datetime.now().strftime(\"%Y%m%d_%H%M%S\")\n",
    "                pickle_filename = make_filesystem_friendly(f\"{func.__name__}_{timestamp}\")\n",
    "                pickle_filename = pickle_filename + \".pickle\"\n",
    "                filepath = Path(path_pickle) / pickle_filename\n",
    "                with open(filepath, 'wb') as f:\n",
    "                    pickle.dump(result, f)\n",
    "            \n",
    "            return result\n",
    "        return wrapper\n",
    "    return decorator"
   ]
  },
  {
   "cell_type": "markdown",
   "metadata": {},
   "source": [
    "Functie om URL shortcut bestanden te maken."
   ]
  },
  {
   "cell_type": "code",
   "execution_count": 3,
   "metadata": {},
   "outputs": [],
   "source": [
    "#| export\n",
    "\n",
    "def save_route_url(url: str, filepath: str, filename: str):\n",
    "    \"\"\"Save URL as a Windows-compatible shortcut file\"\"\"\n",
    "    path = Path(filepath)\n",
    "    path.mkdir(parents=True, exist_ok=True)\n",
    "    \n",
    "    if not filename.endswith('.url'):\n",
    "        filename = filename + '.url'\n",
    "    \n",
    "    content = f\"\"\"[InternetShortcut]\n",
    "URL={url}\"\"\"\n",
    "\n",
    "    with open(path / filename, 'w') as f:\n",
    "        f.write(content)"
   ]
  },
  {
   "cell_type": "code",
   "execution_count": 1,
   "metadata": {},
   "outputs": [
    {
     "ename": "NameError",
     "evalue": "name 'save_route_url' is not defined",
     "output_type": "error",
     "traceback": [
      "\u001b[0;31m---------------------------------------------------------------------------\u001b[0m",
      "\u001b[0;31mNameError\u001b[0m                                 Traceback (most recent call last)",
      "Cell \u001b[0;32mIn[1], line 3\u001b[0m\n\u001b[1;32m      1\u001b[0m \u001b[38;5;66;03m#| export\u001b[39;00m\n\u001b[0;32m----> 3\u001b[0m \u001b[43msave_route_url\u001b[49m(\u001b[38;5;124m'\u001b[39m\u001b[38;5;124mhttps://www.google.com\u001b[39m\u001b[38;5;124m'\u001b[39m, \u001b[38;5;124m'\u001b[39m\u001b[38;5;124m./data\u001b[39m\u001b[38;5;124m'\u001b[39m, \u001b[38;5;124m'\u001b[39m\u001b[38;5;124mgoogletest.url\u001b[39m\u001b[38;5;124m'\u001b[39m)\n",
      "\u001b[0;31mNameError\u001b[0m: name 'save_route_url' is not defined"
     ]
    }
   ],
   "source": [
    "#| export\n",
    "\n",
    "save_route_url('https://www.google.com', './data', 'googletest.url')"
   ]
  },
  {
   "cell_type": "code",
   "execution_count": 6,
   "metadata": {},
   "outputs": [],
   "source": [
    "#| hide\n",
    "import nbdev; nbdev.nbdev_export()"
   ]
  }
 ],
 "metadata": {
  "kernelspec": {
   "display_name": ".venv",
   "language": "python",
   "name": "python3"
  },
  "language_info": {
   "codemirror_mode": {
    "name": "ipython",
    "version": 3
   },
   "file_extension": ".py",
   "mimetype": "text/x-python",
   "name": "python",
   "nbconvert_exporter": "python",
   "pygments_lexer": "ipython3",
   "version": "3.10.12"
  }
 },
 "nbformat": 4,
 "nbformat_minor": 4
}
