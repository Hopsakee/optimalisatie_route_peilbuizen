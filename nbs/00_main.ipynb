{
 "cells": [
  {
   "cell_type": "markdown",
   "metadata": {},
   "source": [
    "# Main\n",
    "\n",
    "> Module die alle functies die nodig zijn om de snelste route te vinden langs alle peilbuizen gegroepeerd per project."
   ]
  },
  {
   "cell_type": "code",
   "execution_count": null,
   "metadata": {},
   "outputs": [],
   "source": [
    "#| default_exp main"
   ]
  },
  {
   "cell_type": "code",
   "execution_count": null,
   "metadata": {},
   "outputs": [],
   "source": [
    "#| hide\n",
    "from nbdev.showdoc import *"
   ]
  },
  {
   "cell_type": "code",
   "execution_count": null,
   "metadata": {},
   "outputs": [],
   "source": [
    "#| export\n",
    "import yaml\n",
    "import pandas as pd\n",
    "import logging\n",
    "from datetime import datetime\n",
    "from fastcore.utils import Path\n",
    "from tqdm import tqdm\n",
    "\n",
    "from project.data_get import get_data_from_azuresql, load_pickle\n",
    "from project.route_get import create_optimized_route\n",
    "from project.data_export import get_waypoint_coords, convert_routejson_to_df, create_route_prev_next, google_maps_route_url\n",
    "from project.utils import get_project_root, make_filesystem_friendly, save_route_url, setup_logging"
   ]
  },
  {
   "cell_type": "markdown",
   "metadata": {},
   "source": [
    "Get the settings from the settings.yaml file."
   ]
  },
  {
   "cell_type": "code",
   "execution_count": null,
   "metadata": {},
   "outputs": [],
   "source": [
    "#| export\n",
    "project_root = get_project_root()\n",
    "\n",
    "with open(project_root / 'settings.yaml', 'r') as f:\n",
    "    settings = yaml.safe_load(f)"
   ]
  },
  {
   "cell_type": "markdown",
   "metadata": {},
   "source": [
    "Get the data from the Azure SQL database in a pandas DataFrame or from a pickle file."
   ]
  },
  {
   "cell_type": "code",
   "execution_count": null,
   "metadata": {},
   "outputs": [],
   "source": [
    "#| export\n",
    "# Only used for testing\n",
    "use_pickle=True\n",
    "\n",
    "if use_pickle:\n",
    "    peilbuizen_df = load_pickle(settings['files']['pickle_file_input'])\n",
    "else:\n",
    "    peilbuizen_df = get_data_from_azuresql(sql_statement=settings['sql_statement']['peilbuizen'], \n",
    "                                       save_to_pickle=settings['files']['save_to_pickle'])\n",
    "\n",
    "df_grouped = peilbuizen_df.groupby('project')\n",
    "test_df_group = df_grouped.get_group('---')\n",
    "test_name_group = 'group_name'\n",
    "\n",
    "df_random_test = peilbuizen_df.sample(n=100)"
   ]
  },
  {
   "cell_type": "code",
   "execution_count": null,
   "metadata": {},
   "outputs": [
    {
     "data": {
      "text/html": [
       "<div>\n",
       "<style scoped>\n",
       "    .dataframe tbody tr th:only-of-type {\n",
       "        vertical-align: middle;\n",
       "    }\n",
       "\n",
       "    .dataframe tbody tr th {\n",
       "        vertical-align: top;\n",
       "    }\n",
       "\n",
       "    .dataframe thead th {\n",
       "        text-align: right;\n",
       "    }\n",
       "</style>\n",
       "<table border=\"1\" class=\"dataframe\">\n",
       "  <thead>\n",
       "    <tr style=\"text-align: right;\">\n",
       "      <th></th>\n",
       "      <th>Id</th>\n",
       "      <th>Longitude</th>\n",
       "      <th>latitude</th>\n",
       "      <th>latest_measure_date</th>\n",
       "      <th>project</th>\n",
       "    </tr>\n",
       "  </thead>\n",
       "  <tbody>\n",
       "    <tr>\n",
       "      <th>241</th>\n",
       "      <td>27GC901A;408995</td>\n",
       "      <td>6.180674</td>\n",
       "      <td>52.359436</td>\n",
       "      <td>2024-04-03 10:55:02</td>\n",
       "      <td>---</td>\n",
       "    </tr>\n",
       "    <tr>\n",
       "      <th>242</th>\n",
       "      <td>27HC007B;410283</td>\n",
       "      <td>6.202980</td>\n",
       "      <td>52.306282</td>\n",
       "      <td>2024-11-04 11:26:39</td>\n",
       "      <td>---</td>\n",
       "    </tr>\n",
       "    <tr>\n",
       "      <th>296</th>\n",
       "      <td>21FC011A;394286</td>\n",
       "      <td>6.207653</td>\n",
       "      <td>52.601814</td>\n",
       "      <td>2024-04-09 09:51:57</td>\n",
       "      <td>---</td>\n",
       "    </tr>\n",
       "    <tr>\n",
       "      <th>389</th>\n",
       "      <td>B21E0010;416303</td>\n",
       "      <td>6.181055</td>\n",
       "      <td>52.613954</td>\n",
       "      <td>2024-04-09 10:43:36</td>\n",
       "      <td>---</td>\n",
       "    </tr>\n",
       "    <tr>\n",
       "      <th>451</th>\n",
       "      <td>B21F0003;416597</td>\n",
       "      <td>6.219551</td>\n",
       "      <td>52.650246</td>\n",
       "      <td>2024-04-09 10:57:31</td>\n",
       "      <td>---</td>\n",
       "    </tr>\n",
       "  </tbody>\n",
       "</table>\n",
       "</div>"
      ],
      "text/plain": [
       "                  Id  Longitude   latitude latest_measure_date project\n",
       "241  27GC901A;408995   6.180674  52.359436 2024-04-03 10:55:02     ---\n",
       "242  27HC007B;410283   6.202980  52.306282 2024-11-04 11:26:39     ---\n",
       "296  21FC011A;394286   6.207653  52.601814 2024-04-09 09:51:57     ---\n",
       "389  B21E0010;416303   6.181055  52.613954 2024-04-09 10:43:36     ---\n",
       "451  B21F0003;416597   6.219551  52.650246 2024-04-09 10:57:31     ---"
      ]
     },
     "execution_count": null,
     "metadata": {},
     "output_type": "execute_result"
    }
   ],
   "source": [
    "#| hide\n",
    "test_df_group.head()"
   ]
  },
  {
   "cell_type": "code",
   "execution_count": null,
   "metadata": {},
   "outputs": [
    {
     "data": {
      "text/html": [
       "<div>\n",
       "<style scoped>\n",
       "    .dataframe tbody tr th:only-of-type {\n",
       "        vertical-align: middle;\n",
       "    }\n",
       "\n",
       "    .dataframe tbody tr th {\n",
       "        vertical-align: top;\n",
       "    }\n",
       "\n",
       "    .dataframe thead th {\n",
       "        text-align: right;\n",
       "    }\n",
       "</style>\n",
       "<table border=\"1\" class=\"dataframe\">\n",
       "  <thead>\n",
       "    <tr style=\"text-align: right;\">\n",
       "      <th></th>\n",
       "      <th>Id</th>\n",
       "      <th>Longitude</th>\n",
       "      <th>latitude</th>\n",
       "      <th>latest_measure_date</th>\n",
       "      <th>project</th>\n",
       "    </tr>\n",
       "  </thead>\n",
       "  <tbody>\n",
       "    <tr>\n",
       "      <th>588</th>\n",
       "      <td>21FL0008;394678</td>\n",
       "      <td>6.248350</td>\n",
       "      <td>52.644864</td>\n",
       "      <td>2024-10-10 14:04:21</td>\n",
       "      <td>Primair meetnet blok 2</td>\n",
       "    </tr>\n",
       "    <tr>\n",
       "      <th>408</th>\n",
       "      <td>PB53-92.7A2;1137057</td>\n",
       "      <td>6.076334</td>\n",
       "      <td>52.537876</td>\n",
       "      <td>2023-04-25 11:02:17</td>\n",
       "      <td>None</td>\n",
       "    </tr>\n",
       "    <tr>\n",
       "      <th>984</th>\n",
       "      <td>53-35.7A;940459</td>\n",
       "      <td>6.112688</td>\n",
       "      <td>52.442759</td>\n",
       "      <td>2024-12-12 10:51:55</td>\n",
       "      <td>None</td>\n",
       "    </tr>\n",
       "    <tr>\n",
       "      <th>867</th>\n",
       "      <td>17AC612A;1310086</td>\n",
       "      <td>6.442024</td>\n",
       "      <td>52.823646</td>\n",
       "      <td>2024-08-30 09:55:35</td>\n",
       "      <td>None</td>\n",
       "    </tr>\n",
       "    <tr>\n",
       "      <th>883</th>\n",
       "      <td>B22C1349;390212</td>\n",
       "      <td>6.403365</td>\n",
       "      <td>52.559865</td>\n",
       "      <td>2024-10-10 10:52:51</td>\n",
       "      <td>Primair meetnet blok 2</td>\n",
       "    </tr>\n",
       "  </tbody>\n",
       "</table>\n",
       "</div>"
      ],
      "text/plain": [
       "                      Id  Longitude   latitude latest_measure_date  \\\n",
       "588      21FL0008;394678   6.248350  52.644864 2024-10-10 14:04:21   \n",
       "408  PB53-92.7A2;1137057   6.076334  52.537876 2023-04-25 11:02:17   \n",
       "984      53-35.7A;940459   6.112688  52.442759 2024-12-12 10:51:55   \n",
       "867     17AC612A;1310086   6.442024  52.823646 2024-08-30 09:55:35   \n",
       "883      B22C1349;390212   6.403365  52.559865 2024-10-10 10:52:51   \n",
       "\n",
       "                    project  \n",
       "588  Primair meetnet blok 2  \n",
       "408                    None  \n",
       "984                    None  \n",
       "867                    None  \n",
       "883  Primair meetnet blok 2  "
      ]
     },
     "execution_count": null,
     "metadata": {},
     "output_type": "execute_result"
    }
   ],
   "source": [
    "#| hide\n",
    "df_random_test.head()"
   ]
  },
  {
   "cell_type": "markdown",
   "metadata": {},
   "source": [
    "For every project in the peilbuizen dataframe, the shortest route is calculated and saved to an Excel file and a URL file."
   ]
  },
  {
   "cell_type": "code",
   "execution_count": null,
   "metadata": {},
   "outputs": [],
   "source": [
    "#| export\n",
    "\n",
    "def create_group_route(start_address: str,\n",
    "                       group_df: pd.DataFrame, \n",
    "                       route_profile: str,\n",
    "                       project_name: str,\n",
    "                       output_dir: str = 'output',\n",
    "                       current_date: str = None,\n",
    "                       ) -> None:\n",
    "    \"\"\"\n",
    "    Create optimized route for a group and save results\n",
    "    \"\"\"\n",
    "    if current_date is None:\n",
    "        current_date = datetime.now().strftime('%Y-%m-%d')\n",
    "        \n",
    "    # Create output directory\n",
    "    output_path = Path(output_dir)\n",
    "    output_path.mkdir(parents=True, exist_ok=True)\n",
    "    \n",
    "    try:\n",
    "        # Get optimized route\n",
    "        route_json = create_optimized_route(start_address, group_df, route_profile)\n",
    "        route_coords = get_waypoint_coords(route_json)\n",
    "        \n",
    "        # Create route dataframe\n",
    "        optimized_route = convert_routejson_to_df(route_coords, group_df)\n",
    "        route_table = create_route_prev_next(optimized_route)\n",
    "        \n",
    "        # Create filenames\n",
    "        safe_project_name = make_filesystem_friendly(project_name)\n",
    "        base_filename = f\"peilbuizenroute_{safe_project_name}_{current_date}\"\n",
    "        \n",
    "        # Save Excel file\n",
    "        excel_path = output_path / f\"{base_filename}.xlsx\"\n",
    "        route_table.to_excel(excel_path)\n",
    "        \n",
    "        # Save URL shortcut\n",
    "        url = google_maps_route_url(route_coords)\n",
    "        save_route_url(url, output_dir, f\"{base_filename}.url\")\n",
    "        \n",
    "    except Exception as e:\n",
    "        print(f\"Error processing group {project_name}: {str(e)}\")"
   ]
  },
  {
   "cell_type": "code",
   "execution_count": null,
   "metadata": {},
   "outputs": [],
   "source": [
    "#| export\n",
    "create_group_route(start_address=settings['calculation']['startlocation'],\n",
    "                    group_df=test_df_group,\n",
    "                    route_profile=settings['calculation']['distance_calculation_method'],\n",
    "                    project_name=test_name_group,\n",
    "                    output_dir=settings['files']['path_results'])\n"
   ]
  },
  {
   "cell_type": "code",
   "execution_count": null,
   "metadata": {},
   "outputs": [],
   "source": [
    "#| export\n",
    "\n",
    "def process_peilbuizen_routes(df: pd.DataFrame, \n",
    "                            start_address: str,\n",
    "                            route_profile: str,\n",
    "                            output_dir: str = 'output') -> None:\n",
    "    \"\"\"\n",
    "    Process peilbuizen dataframe, create optimized routes for each group,\n",
    "    and save results to Excel and URL files\n",
    "    \n",
    "    Args:\n",
    "        df: DataFrame with peilbuizen data\n",
    "        start_address: Starting location address\n",
    "        output_dir: Directory to save output files\n",
    "    \"\"\"\n",
    "    # Create output directory and setup logging\n",
    "    output_path = Path(output_dir)\n",
    "    output_path.mkdir(parents=True, exist_ok=True)\n",
    "    current_date = datetime.now().strftime('%Y-%m-%d')\n",
    "    logger = setup_logging(output_dir, current_date)\n",
    "        \n",
    "    # Process each group\n",
    "    grouped = df.groupby('project')\n",
    "    total_groups = len(grouped)\n",
    "    \n",
    "    for project_name, group_df in tqdm(grouped, total=total_groups,desc=\"Processing peilbuis routes per project.\"):\n",
    "        if len(group_df) < 4:\n",
    "            msg = f\"Project {project_name} heeft minder dan 3 of minder locaties. Optimale route uitrekenen is zinloos.\"\n",
    "            print(msg)\n",
    "            logger.info(msg)\n",
    "        else:\n",
    "            try:\n",
    "                create_group_route(\n",
    "                    start_address=start_address,\n",
    "                    group_df=group_df,\n",
    "                    route_profile=route_profile,\n",
    "                    project_name=project_name,\n",
    "                    output_dir=output_dir,\n",
    "                    current_date=current_date\n",
    "                )\n",
    "                logger.info(f\"Successfully processed route for project: {project_name}\")\n",
    "            except Exception as e:\n",
    "                error_msg = f\"Error processing project {project_name}: {str(e)}\"\n",
    "                print(error_msg)\n",
    "                logger.error(error_msg)"
   ]
  },
  {
   "cell_type": "code",
   "execution_count": null,
   "metadata": {},
   "outputs": [
    {
     "name": "stderr",
     "output_type": "stream",
     "text": [
      "Processing peilbuis routes per project.:   0%|          | 0/16 [00:00<?, ?it/s]2025-01-24 19:24:32:INFO:project.utils:Project Boetelerveld_nw heeft minder dan 3 of minder locaties. Optimale route uitrekenen is zinloos.\n",
      "2025-01-24 19:24:32:INFO:project.utils:Project Holtingerveld _Ootmaanlanden en Koningschut heeft minder dan 3 of minder locaties. Optimale route uitrekenen is zinloos.\n",
      "2025-01-24 19:24:32:INFO:project.utils:Project Mastenbroek-IJssel heeft minder dan 3 of minder locaties. Optimale route uitrekenen is zinloos.\n",
      "2025-01-24 19:24:32:INFO:project.utils:Project Meetnet De Wijk II heeft minder dan 3 of minder locaties. Optimale route uitrekenen is zinloos.\n"
     ]
    },
    {
     "name": "stdout",
     "output_type": "stream",
     "text": [
      "Project Boetelerveld_nw heeft minder dan 3 of minder locaties. Optimale route uitrekenen is zinloos.\n",
      "Project Holtingerveld _Ootmaanlanden en Koningschut heeft minder dan 3 of minder locaties. Optimale route uitrekenen is zinloos.\n",
      "Project Mastenbroek-IJssel heeft minder dan 3 of minder locaties. Optimale route uitrekenen is zinloos.\n",
      "Project Meetnet De Wijk II heeft minder dan 3 of minder locaties. Optimale route uitrekenen is zinloos.\n"
     ]
    },
    {
     "name": "stderr",
     "output_type": "stream",
     "text": [
      "2025-01-24 19:24:32:INFO:project.utils:Successfully processed route for project: Olde Maten en Veerslootlanden\n",
      "Processing peilbuis routes per project.:  31%|███▏      | 5/16 [00:00<00:00, 11.09it/s]2025-01-24 19:24:32:INFO:project.utils:Project Oldematen Reevediep heeft minder dan 3 of minder locaties. Optimale route uitrekenen is zinloos.\n",
      "2025-01-24 19:24:32:INFO:project.utils:Project Oude Diep Mantinge Bos_Zand heeft minder dan 3 of minder locaties. Optimale route uitrekenen is zinloos.\n"
     ]
    },
    {
     "name": "stdout",
     "output_type": "stream",
     "text": [
      "Error processing group Olde Maten en Veerslootlanden: 404 ({'error': {'code': 2010, 'message': 'Could not find routable point within a radius of 350.0 meters of specified coordinate 1: 6.1215398 52.6136725.'}, 'info': {'engine': {'build_date': '2024-12-02T11:09:21Z', 'graph_version': '1', 'version': '9.0.0'}, 'timestamp': 1737743072378}})\n",
      "Project Oldematen Reevediep heeft minder dan 3 of minder locaties. Optimale route uitrekenen is zinloos.\n",
      "Project Oude Diep Mantinge Bos_Zand heeft minder dan 3 of minder locaties. Optimale route uitrekenen is zinloos.\n"
     ]
    },
    {
     "name": "stderr",
     "output_type": "stream",
     "text": [
      "2025-01-24 19:24:33:INFO:project.utils:Successfully processed route for project: Primair meetnet blok 1\n",
      "Processing peilbuis routes per project.:  50%|█████     | 8/16 [00:01<00:01,  5.09it/s]"
     ]
    },
    {
     "name": "stdout",
     "output_type": "stream",
     "text": [
      "Error processing group Primair meetnet blok 1: 404 ({'error': {'code': 2010, 'message': 'Could not find routable point within a radius of 350.0 meters of specified coordinate 5: 6.2932497 52.3568122.'}, 'info': {'engine': {'build_date': '2024-12-02T11:09:21Z', 'graph_version': '1', 'version': '9.0.0'}, 'timestamp': 1737743073339}})\n"
     ]
    },
    {
     "name": "stderr",
     "output_type": "stream",
     "text": [
      "2025-01-24 19:24:34:INFO:project.utils:Successfully processed route for project: Primair meetnet blok 2\n",
      "Processing peilbuis routes per project.:  56%|█████▋    | 9/16 [00:02<00:02,  2.57it/s]2025-01-24 19:24:35:INFO:project.utils:Successfully processed route for project: Primair meetnet blok 3\n",
      "Processing peilbuis routes per project.:  62%|██████▎   | 10/16 [00:03<00:02,  2.08it/s]2025-01-24 19:24:35:INFO:project.utils:Project Reevediep heeft minder dan 3 of minder locaties. Optimale route uitrekenen is zinloos.\n",
      "2025-01-24 19:24:35:INFO:project.utils:Project Vecht heeft minder dan 3 of minder locaties. Optimale route uitrekenen is zinloos.\n",
      "2025-01-24 19:24:35:INFO:project.utils:Project Vechterweerd heeft minder dan 3 of minder locaties. Optimale route uitrekenen is zinloos.\n",
      "2025-01-24 19:24:35:INFO:project.utils:Project Wabos-KRW heeft minder dan 3 of minder locaties. Optimale route uitrekenen is zinloos.\n",
      "2025-01-24 19:24:35:INFO:project.utils:Project peilbesluit Kostverlorenzijl en Kloosterzijl heeft minder dan 3 of minder locaties. Optimale route uitrekenen is zinloos.\n",
      "2025-01-24 19:24:35:INFO:project.utils:Project zandwinplassen heeft minder dan 3 of minder locaties. Optimale route uitrekenen is zinloos.\n",
      "Processing peilbuis routes per project.: 100%|██████████| 16/16 [00:03<00:00,  4.55it/s]"
     ]
    },
    {
     "name": "stdout",
     "output_type": "stream",
     "text": [
      "Project Reevediep heeft minder dan 3 of minder locaties. Optimale route uitrekenen is zinloos.\n",
      "Project Vecht heeft minder dan 3 of minder locaties. Optimale route uitrekenen is zinloos.\n",
      "Project Vechterweerd heeft minder dan 3 of minder locaties. Optimale route uitrekenen is zinloos.\n",
      "Project Wabos-KRW heeft minder dan 3 of minder locaties. Optimale route uitrekenen is zinloos.\n",
      "Project peilbesluit Kostverlorenzijl en Kloosterzijl heeft minder dan 3 of minder locaties. Optimale route uitrekenen is zinloos.\n",
      "Project zandwinplassen heeft minder dan 3 of minder locaties. Optimale route uitrekenen is zinloos.\n"
     ]
    },
    {
     "name": "stderr",
     "output_type": "stream",
     "text": [
      "\n"
     ]
    }
   ],
   "source": [
    "#| export\n",
    "\n",
    "process_peilbuizen_routes(df=peilbuizen_df,\n",
    "                         start_address=settings['calculation']['startlocation'],\n",
    "                         route_profile=settings['calculation']['distance_calculation_method'],\n",
    "                         output_dir=settings['files']['path_results'])"
   ]
  },
  {
   "cell_type": "code",
   "execution_count": null,
   "metadata": {},
   "outputs": [],
   "source": [
    "#| hide\n",
    "import nbdev; nbdev.nbdev_export()"
   ]
  }
 ],
 "metadata": {
  "kernelspec": {
   "display_name": "python3",
   "language": "python",
   "name": "python3"
  }
 },
 "nbformat": 4,
 "nbformat_minor": 4
}
