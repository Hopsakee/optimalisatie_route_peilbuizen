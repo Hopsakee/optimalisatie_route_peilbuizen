{
 "cells": [
  {
   "cell_type": "markdown",
   "metadata": {},
   "source": [
    "# Route planner\n",
    "\n",
    "> Module die alle functies bevat die nodig zijn om de snelste route te vinden langs een gegeven serie locaties.\n",
    "> Deze maakt gebruik van de API van [openrouteservice](https://openrouteservice.org/dev/#/api-docs).\n",
    "> Deze functies hoeven in principe niet door de gebruiker zelf te worden aangeroepen."
   ]
  },
  {
   "cell_type": "code",
   "execution_count": null,
   "metadata": {},
   "outputs": [],
   "source": [
    "#| default_exp route_get"
   ]
  },
  {
   "cell_type": "code",
   "execution_count": null,
   "metadata": {},
   "outputs": [],
   "source": [
    "#| hide\n",
    "from nbdev.showdoc import *"
   ]
  },
  {
   "cell_type": "code",
   "execution_count": null,
   "metadata": {},
   "outputs": [],
   "source": [
    "#| export\n",
    "from datetime import datetime\n",
    "import os\n",
    "\n",
    "import pandas as pd\n",
    "import numpy as np\n",
    "from fastcore.utils import L\n",
    "\n",
    "import openrouteservice\n",
    "from geopy.geocoders import Nominatim\n",
    "\n",
    "from project.data_get import get_data_from_azuresql\n",
    "from project.utils import load_settings"
   ]
  },
  {
   "cell_type": "markdown",
   "metadata": {},
   "source": [
    "## Openrouteservice API toelichting\n",
    "\n",
    "We gebruiken de Openrouteservice API met de Python client (https://openrouteservice-py.readthedocs.io/en/latest/).\n",
    "Voor het aantal berekeningen dat we moeten doen is toestemming nodig als je dat op de server van Openrouteservice zelf wil doen. Jelle heeft hier toestemming voor gerkegen. De API key is dus aan zijn account gekoppeld en niet aan WDODelta."
   ]
  },
  {
   "cell_type": "code",
   "execution_count": null,
   "metadata": {},
   "outputs": [],
   "source": [
    "#| hide\n",
    "# only used for testing while developping\n",
    "from fastcore.utils import Path\n",
    "from project.data_get import load_pickle\n"
   ]
  },
  {
   "cell_type": "code",
   "execution_count": null,
   "metadata": {},
   "outputs": [
    {
     "data": {
      "text/plain": [
       "dict_keys(['---', 'Bagger Dedemsvaart', 'Baggeren Beilervaart', 'Beekmaatregelen Reest', 'Boetelerveld_nw', 'Brongeb VL-AA', 'Dijken', 'Droogte Onderzoek NL fase 2 - bodemvochtmetingen', 'Droogtemeetnet WDOD', 'Ecologisch Effect Beekherstel Middenloop Vledder Aa Fase 1', 'Holtingerveld _Ootmaanlanden en Koningschut', 'Inrichting Dwingelderveld', 'Koekoekspolder grondwatermeetnet', 'Mastenbroek-IJssel', 'Meetnet De Wijk II', 'Nieuwveense landen', 'Nijstad Hoogeveen', 'Olde Maten en Veerslootlanden', 'Oldematen Reevediep', 'Oude Diep', 'Oude Diep Mantinge Bos_Zand', 'Oude Diep_Roode Brand', 'Oude Willem', 'Overijsselskanaal Deventer-Raalte', 'Paddenpol Zwolle-Olst', 'Primair meetnet blok 1', 'Primair meetnet blok 2', 'Primair meetnet blok 3', 'Randzone Ossenzijl Steenwijk', 'Reevediep', 'Reparatie meetpunten', 'Steenwijk_Kallenkote', 'Varsenerveld', 'Vecht', 'Vechterweerd', 'Vledder en Leierhooilanden', 'Wabos-KRW', 'ZUIDWOLDE-ZUID', 'Zandwetering Olst-Zuid_waterberging', 'dijken Stadsdijken Zwolle', 'effecten op WHH van gaswinning de Wijk II', 'peilbesluit Kostverlorenzijl en Kloosterzijl', 'peilbesluit de Kruimels', 'stedelijk Zwolle', 'zandwinplassen'])"
      ]
     },
     "execution_count": null,
     "metadata": {},
     "output_type": "execute_result"
    }
   ],
   "source": [
    "#| hide\n",
    "# Only used for testing\n",
    "settings = load_settings()\n",
    "\n",
    "file_path = settings['files']['path_pickle_results']\n",
    "file_name = \"get_data_from_azuresql_20250124_130111.pickle\"\n",
    "peilbuizen_df = load_pickle(file_path=Path(file_path) / file_name)\n",
    "\n",
    "df_grouped = peilbuizen_df.groupby('project')\n",
    "df_grouped.groups.keys()"
   ]
  },
  {
   "cell_type": "code",
   "execution_count": null,
   "metadata": {},
   "outputs": [],
   "source": [
    "#| hide\n",
    "df_test = df_grouped.get_group('Boetelerveld_nw')"
   ]
  },
  {
   "cell_type": "code",
   "execution_count": null,
   "metadata": {},
   "outputs": [],
   "source": [
    "#| export\n",
    "\n",
    "client = openrouteservice.Client(key=os.environ[\"OPENROUTESERVICE_KEY\"])"
   ]
  },
  {
   "cell_type": "markdown",
   "metadata": {},
   "source": [
    "## Bepaald de coordinaten van de startlocatie.\n",
    "\n",
    "We vinden hier hier de longitude en latitude coordinaten van de startlocatie die als adres kan worden opgegeven in de `settings.yaml` file.\n",
    "\n",
    "We gebruiken hiervoor de Nominatim geocoder (https://python-geopy-homework.readthedocs.io/en/latest/geocoders/nominatim.html) en niet de Openrouteservice, omdat (voor zover Jelle weet) Openrouteservice deze optie niet biedt."
   ]
  },
  {
   "cell_type": "code",
   "execution_count": null,
   "metadata": {},
   "outputs": [],
   "source": [
    "#| export\n",
    "def get_lonlat_start_location(address: str = \"Dokter van Deenweg 186, 8025 BM, Zwolle\"):\n",
    "    \"\"\"Get the longitude and latitude coordinates from a given adress\"\"\"\n",
    "    geolocator = Nominatim(user_agent=\"wdodelta_route_optimizer\", timeout=10)\n",
    "    max_retries = 3\n",
    "    retry_delay = 2\n",
    "\n",
    "    for attempt in range(max_retries):\n",
    "        try:\n",
    "            location = geolocator.geocode(address)\n",
    "            if location:\n",
    "                return (location.longitude, location.latitude)\n",
    "            else:\n",
    "                print(f\"Warning: Could not find coordinates for adress: {address}\")\n",
    "                return None\n",
    "        except GeocoderTimedOut:\n",
    "            if attempt < max_retries - 1:\n",
    "                print(f\"Warning: Geocoder timed out, attempt {attempt + 1}/{max_retries}. Retrying...\")\n",
    "                time.sleep(retry_delay)\n",
    "            else:\n",
    "                print(f\"Error: Geocoder timed out after {max_retries} attempts\")\n",
    "                return None\n",
    "        except GeocoderServiceError as e:\n",
    "            print(f\"Error: Geocoding service error - {str(e)}\")\n",
    "            return None\n",
    "        except Exception as e:\n",
    "            print(f\"Error: Unexpected error during geocoding - {str(e)}\")\n",
    "            return None"
   ]
  },
  {
   "cell_type": "markdown",
   "metadata": {},
   "source": [
    "## Haal de coordinaten van de peilbuislocaties op uit de peilbuizen dataframe."
   ]
  },
  {
   "cell_type": "code",
   "execution_count": null,
   "metadata": {},
   "outputs": [],
   "source": [
    "#| export\n",
    "def df_to_longlat_tuple(df, longitude_column, latitude_column):\n",
    "    \"\"\"Get the longitude and latitude coordinates from all rows in a pandas dataframe\n",
    "    and return a list of longitude, latitude tuples\"\"\"\n",
    "    return [(row[longitude_column], row[latitude_column]) for _, row in df.iterrows()]"
   ]
  },
  {
   "cell_type": "code",
   "execution_count": null,
   "metadata": {},
   "outputs": [
    {
     "data": {
      "text/plain": [
       "(6.1254037, 52.5069559)"
      ]
     },
     "execution_count": null,
     "metadata": {},
     "output_type": "execute_result"
    }
   ],
   "source": [
    "#| hide\n",
    "start_location = get_lonlat_start_location(settings['calculation']['startlocation'])\n",
    "start_location"
   ]
  },
  {
   "cell_type": "code",
   "execution_count": null,
   "metadata": {},
   "outputs": [
    {
     "data": {
      "text/plain": [
       "17"
      ]
     },
     "execution_count": null,
     "metadata": {},
     "output_type": "execute_result"
    }
   ],
   "source": [
    "#| hide\n",
    "len(df_test)"
   ]
  },
  {
   "cell_type": "code",
   "execution_count": null,
   "metadata": {},
   "outputs": [
    {
     "data": {
      "text/plain": [
       "[(6.31447943904077, 52.3695816028906),\n",
       " (6.33588886886419, 52.3668413010561),\n",
       " (6.34241251218036, 52.3636339878603),\n",
       " (6.33914653000434, 52.3626446506742),\n",
       " (6.34038015617724, 52.353098309015),\n",
       " (6.30853883795403, 52.3684775306057),\n",
       " (6.34416955328974, 52.3606896598573),\n",
       " (6.32698979439397, 52.3633260588481),\n",
       " (6.34155389136252, 52.3544370677718),\n",
       " (6.31519312162391, 52.3615855946565),\n",
       " (6.34548591239569, 52.3550254656901),\n",
       " (6.34068514963815, 52.3631895256562),\n",
       " (6.31703124959358, 52.3708288993225),\n",
       " (6.3429287334774, 52.3623804695934),\n",
       " (6.34625596735498, 52.3587313286589),\n",
       " (6.31295601019247, 52.3627266312915),\n",
       " (6.31182784125961, 52.3557966399885)]"
      ]
     },
     "execution_count": null,
     "metadata": {},
     "output_type": "execute_result"
    }
   ],
   "source": [
    "#| hide\n",
    "longlat_tpl_test = df_to_longlat_tuple(df_test, longitude_column=\"Longitude\", latitude_column=\"latitude\")\n",
    "longlat_tpl_test"
   ]
  },
  {
   "cell_type": "markdown",
   "metadata": {},
   "source": [
    "## Find the shortest route through all locations starting at the start location and ending at the start location. Using the openrouteservice API."
   ]
  },
  {
   "cell_type": "code",
   "execution_count": null,
   "metadata": {},
   "outputs": [],
   "source": [
    "#| export\n",
    "def create_optimized_route(start_address: str, # De startlocatie en eindlocatie opgegeven als adres\n",
    "                           df: pd.DataFrame, # Dataframe met peilbuizen en coordinaten in WGS84\n",
    "                           route_profile: str, # Het route profiel (transport methode) waarvoor de route berekend moet worden\n",
    "                           long_clmn: str=\"Longitude\", # Dataframe kolomnaam met de longitude coordinaten in WGS84\n",
    "                           lat_clmn: str=\"latitude\" # Dataframe kolomnaam met de latitude coordinaten in WGS84\n",
    "                           ):\n",
    "    \"\"\"Solve the traveling salesman problem (visit all given points exactly once in the \n",
    "    shortes possible route) for a given start adress and pandas dataframe with longitude\n",
    "    and latitude columns.\"\"\"\n",
    "    start_coords = get_lonlat_start_location(start_address)\n",
    "    peilbuizen_coords = df_to_longlat_tuple(df, longitude_column=long_clmn, latitude_column=lat_clmn)\n",
    "    total_coords = L([start_coords] + peilbuizen_coords + [start_coords])\n",
    "    return client.directions(total_coords,\n",
    "                           profile=route_profile,\n",
    "                           optimize_waypoints=True,\n",
    "                           instructions=False,\n",
    "                           geometry=True,\n",
    "                           format='geojson',\n",
    "                           preference='fastest',\n",
    "                           radiuses=-1 # Don't restrict radius to search for routepoint near peilbuis,\n",
    "                           \n",
    "    )\n"
   ]
  },
  {
   "cell_type": "code",
   "execution_count": null,
   "metadata": {},
   "outputs": [
    {
     "data": {
      "text/plain": [
       "'cycling-regular'"
      ]
     },
     "execution_count": null,
     "metadata": {},
     "output_type": "execute_result"
    }
   ],
   "source": [
    "#| hide\n",
    "route_profile = settings['calculation']['distance_calculation_method']\n",
    "route_profile"
   ]
  },
  {
   "cell_type": "code",
   "execution_count": null,
   "metadata": {},
   "outputs": [
    {
     "data": {
      "text/plain": [
       "{'type': 'FeatureCollection',\n",
       " 'bbox': [6.301719, 52.352912, 6.356489, 52.37279],\n",
       " 'features': [{'bbox': [6.301719, 52.352912, 6.356489, 52.37279],\n",
       "   'type': 'Feature',\n",
       "   'properties': {'way_points': [0,\n",
       "     10,\n",
       "     42,\n",
       "     48,\n",
       "     49,\n",
       "     50,\n",
       "     64,\n",
       "     71,\n",
       "     77,\n",
       "     83,\n",
       "     85,\n",
       "     123,\n",
       "     178,\n",
       "     207,\n",
       "     218,\n",
       "     230,\n",
       "     242],\n",
       "    'summary': {'distance': 19960.6, 'duration': 5088.1}},\n",
       "   'geometry': {'coordinates': [[6.313255, 52.370191],\n",
       "     [6.313427, 52.37032],\n",
       "     [6.313226, 52.370424],\n",
       "     [6.313197, 52.370511],\n",
       "     [6.314538, 52.370706],\n",
       "     [6.31524, 52.37081],\n",
       "     [6.315513, 52.370873],\n",
       "     [6.31581, 52.37098],\n",
       "     [6.316328, 52.371234],\n",
       "     [6.316668, 52.371399],\n",
       "     [6.317259, 52.37098],\n",
       "     [6.316668, 52.371399],\n",
       "     [6.317595, 52.371882],\n",
       "     [6.318057, 52.372121],\n",
       "     [6.325381, 52.370716],\n",
       "     [6.329314, 52.369958],\n",
       "     [6.331422, 52.369548],\n",
       "     [6.332195, 52.369398],\n",
       "     [6.335619, 52.368733],\n",
       "     [6.336381, 52.368598],\n",
       "     [6.336593, 52.368591],\n",
       "     [6.336728, 52.368604],\n",
       "     [6.34201, 52.36953],\n",
       "     [6.342438, 52.369602],\n",
       "     [6.342633, 52.369593],\n",
       "     [6.342781, 52.369567],\n",
       "     [6.349498, 52.367908],\n",
       "     [6.350303, 52.367658],\n",
       "     [6.352562, 52.366867],\n",
       "     [6.351304, 52.363727],\n",
       "     [6.351302, 52.363627],\n",
       "     [6.351343, 52.363557],\n",
       "     [6.352685, 52.362465],\n",
       "     [6.35556, 52.3602],\n",
       "     [6.355838, 52.359968],\n",
       "     [6.356135, 52.35941],\n",
       "     [6.356489, 52.358764],\n",
       "     [6.355881, 52.358665],\n",
       "     [6.348254, 52.356098],\n",
       "     [6.346784, 52.357593],\n",
       "     [6.346626, 52.357789],\n",
       "     [6.346567, 52.358046],\n",
       "     [6.346636, 52.358717],\n",
       "     [6.346567, 52.358046],\n",
       "     [6.346626, 52.357789],\n",
       "     [6.346784, 52.357593],\n",
       "     [6.348254, 52.356098],\n",
       "     [6.347335, 52.355741],\n",
       "     [6.34059, 52.352912],\n",
       "     [6.34241, 52.353675],\n",
       "     [6.345532, 52.354985],\n",
       "     [6.347335, 52.355741],\n",
       "     [6.348254, 52.356098],\n",
       "     [6.355881, 52.358665],\n",
       "     [6.356489, 52.358764],\n",
       "     [6.356135, 52.35941],\n",
       "     [6.355838, 52.359968],\n",
       "     [6.35556, 52.3602],\n",
       "     [6.352685, 52.362465],\n",
       "     [6.352528, 52.362392],\n",
       "     [6.352458, 52.362372],\n",
       "     [6.352363, 52.36237],\n",
       "     [6.346176, 52.363412],\n",
       "     [6.344303, 52.360751],\n",
       "     [6.344155, 52.360733],\n",
       "     [6.344303, 52.360751],\n",
       "     [6.346176, 52.363412],\n",
       "     [6.344453, 52.363699],\n",
       "     [6.34329, 52.36241],\n",
       "     [6.34323, 52.36239],\n",
       "     [6.34302, 52.3624],\n",
       "     [6.342974, 52.36242],\n",
       "     [6.34302, 52.3624],\n",
       "     [6.34323, 52.36239],\n",
       "     [6.34329, 52.36241],\n",
       "     [6.344453, 52.363699],\n",
       "     [6.343367, 52.363886],\n",
       "     [6.342582, 52.364016],\n",
       "     [6.340412, 52.364375],\n",
       "     [6.340363, 52.364311],\n",
       "     [6.340193, 52.364212],\n",
       "     [6.340109, 52.364119],\n",
       "     [6.339829, 52.363606],\n",
       "     [6.339721, 52.363329],\n",
       "     [6.339518, 52.362807],\n",
       "     [6.339517, 52.362644],\n",
       "     [6.339516, 52.362482],\n",
       "     [6.338737, 52.362115],\n",
       "     [6.338438, 52.361821],\n",
       "     [6.338333, 52.361757],\n",
       "     [6.338259, 52.361735],\n",
       "     [6.337409, 52.361732],\n",
       "     [6.337025, 52.361711],\n",
       "     [6.336604, 52.361647],\n",
       "     [6.336335, 52.361587],\n",
       "     [6.335845, 52.361507],\n",
       "     [6.335687, 52.361464],\n",
       "     [6.335596, 52.361431],\n",
       "     [6.335517, 52.36138],\n",
       "     [6.335418, 52.361235],\n",
       "     [6.335362, 52.361197],\n",
       "     [6.334681, 52.36088],\n",
       "     [6.334392, 52.360809],\n",
       "     [6.33427, 52.360808],\n",
       "     [6.333836, 52.360884],\n",
       "     [6.333622, 52.360932],\n",
       "     [6.333264, 52.361043],\n",
       "     [6.333158, 52.36106],\n",
       "     [6.332689, 52.361033],\n",
       "     [6.332676, 52.361034],\n",
       "     [6.332391, 52.361073],\n",
       "     [6.332095, 52.361154],\n",
       "     [6.331408, 52.361297],\n",
       "     [6.330848, 52.361314],\n",
       "     [6.330023, 52.361616],\n",
       "     [6.32987, 52.361657],\n",
       "     [6.329268, 52.361774],\n",
       "     [6.328555, 52.362022],\n",
       "     [6.328358, 52.362127],\n",
       "     [6.328029, 52.362395],\n",
       "     [6.327601, 52.362653],\n",
       "     [6.327443, 52.362853],\n",
       "     [6.3274, 52.362964],\n",
       "     [6.327511, 52.363176],\n",
       "     [6.3274, 52.362964],\n",
       "     [6.327443, 52.362853],\n",
       "     [6.327601, 52.362653],\n",
       "     [6.328029, 52.362395],\n",
       "     [6.328358, 52.362127],\n",
       "     [6.328555, 52.362022],\n",
       "     [6.329268, 52.361774],\n",
       "     [6.32987, 52.361657],\n",
       "     [6.330023, 52.361616],\n",
       "     [6.330848, 52.361314],\n",
       "     [6.331408, 52.361297],\n",
       "     [6.332095, 52.361154],\n",
       "     [6.332391, 52.361073],\n",
       "     [6.332676, 52.361034],\n",
       "     [6.332689, 52.361033],\n",
       "     [6.333158, 52.36106],\n",
       "     [6.333264, 52.361043],\n",
       "     [6.333622, 52.360932],\n",
       "     [6.333836, 52.360884],\n",
       "     [6.33427, 52.360808],\n",
       "     [6.334392, 52.360809],\n",
       "     [6.334681, 52.36088],\n",
       "     [6.335362, 52.361197],\n",
       "     [6.335418, 52.361235],\n",
       "     [6.335517, 52.36138],\n",
       "     [6.335596, 52.361431],\n",
       "     [6.335687, 52.361464],\n",
       "     [6.335845, 52.361507],\n",
       "     [6.336335, 52.361587],\n",
       "     [6.336604, 52.361647],\n",
       "     [6.337025, 52.361711],\n",
       "     [6.337409, 52.361732],\n",
       "     [6.338259, 52.361735],\n",
       "     [6.338333, 52.361757],\n",
       "     [6.338438, 52.361821],\n",
       "     [6.338737, 52.362115],\n",
       "     [6.339516, 52.362482],\n",
       "     [6.339518, 52.362807],\n",
       "     [6.339829, 52.363606],\n",
       "     [6.340109, 52.364119],\n",
       "     [6.340193, 52.364212],\n",
       "     [6.340363, 52.364311],\n",
       "     [6.340412, 52.364375],\n",
       "     [6.340123, 52.364431],\n",
       "     [6.34001, 52.364468],\n",
       "     [6.339761, 52.364602],\n",
       "     [6.339236, 52.364955],\n",
       "     [6.338733, 52.365369],\n",
       "     [6.337603, 52.366388],\n",
       "     [6.337469, 52.366447],\n",
       "     [6.337364, 52.366456],\n",
       "     [6.337049, 52.366438],\n",
       "     [6.336941, 52.366467],\n",
       "     [6.336865, 52.366528],\n",
       "     [6.336577, 52.366998],\n",
       "     [6.335651, 52.368512],\n",
       "     [6.335609, 52.368634],\n",
       "     [6.335619, 52.368733],\n",
       "     [6.332195, 52.369398],\n",
       "     [6.331422, 52.369548],\n",
       "     [6.329314, 52.369958],\n",
       "     [6.325381, 52.370716],\n",
       "     [6.318057, 52.372121],\n",
       "     [6.317595, 52.371882],\n",
       "     [6.316668, 52.371399],\n",
       "     [6.316328, 52.371234],\n",
       "     [6.31581, 52.37098],\n",
       "     [6.315513, 52.370873],\n",
       "     [6.31524, 52.37081],\n",
       "     [6.314538, 52.370706],\n",
       "     [6.313197, 52.370511],\n",
       "     [6.313099, 52.370523],\n",
       "     [6.311979, 52.370858],\n",
       "     [6.310159, 52.371378],\n",
       "     [6.305282, 52.37279],\n",
       "     [6.305216, 52.372358],\n",
       "     [6.305004, 52.371272],\n",
       "     [6.304808, 52.369848],\n",
       "     [6.304781, 52.369719],\n",
       "     [6.304722, 52.36961],\n",
       "     [6.304646, 52.369468],\n",
       "     [6.306229, 52.369048],\n",
       "     [6.306318, 52.369021],\n",
       "     [6.308517, 52.368447],\n",
       "     [6.306318, 52.369021],\n",
       "     [6.306229, 52.369048],\n",
       "     [6.304646, 52.369468],\n",
       "     [6.3038, 52.36811],\n",
       "     [6.303972, 52.366833],\n",
       "     [6.303984, 52.366686],\n",
       "     [6.303954, 52.36658],\n",
       "     [6.303405, 52.365885],\n",
       "     [6.307866, 52.364733],\n",
       "     [6.308266, 52.364597],\n",
       "     [6.310978, 52.363886],\n",
       "     [6.308266, 52.364597],\n",
       "     [6.307866, 52.364733],\n",
       "     [6.303405, 52.365885],\n",
       "     [6.303169, 52.365567],\n",
       "     [6.301943, 52.363941],\n",
       "     [6.301888, 52.363828],\n",
       "     [6.301719, 52.363118],\n",
       "     [6.302938, 52.362855],\n",
       "     [6.304576, 52.362495],\n",
       "     [6.30465, 52.362475],\n",
       "     [6.312071, 52.360737],\n",
       "     [6.314324, 52.360207],\n",
       "     [6.319137, 52.359075],\n",
       "     [6.319328, 52.359017],\n",
       "     [6.319552, 52.358927],\n",
       "     [6.319713, 52.358819],\n",
       "     [6.319807, 52.358707],\n",
       "     [6.31986, 52.35859],\n",
       "     [6.31987, 52.35848],\n",
       "     [6.31982, 52.35831],\n",
       "     [6.319539, 52.357832],\n",
       "     [6.31878, 52.35667],\n",
       "     [6.317478, 52.354558],\n",
       "     [6.311879, 52.355765]],\n",
       "    'type': 'LineString'}}],\n",
       " 'metadata': {'attribution': 'openrouteservice.org | OpenStreetMap contributors',\n",
       "  'service': 'routing',\n",
       "  'timestamp': 1738579583115,\n",
       "  'query': {'coordinates': [[6.31447943904077, 52.3695816028906],\n",
       "    [6.31703124959358, 52.3708288993225],\n",
       "    [6.34625596735498, 52.3587313286589],\n",
       "    [6.34038015617724, 52.353098309015],\n",
       "    [6.34155389136252, 52.3544370677718],\n",
       "    [6.34548591239569, 52.3550254656901],\n",
       "    [6.34416955328974, 52.3606896598573],\n",
       "    [6.3429287334774, 52.3623804695934],\n",
       "    [6.34241251218036, 52.3636339878603],\n",
       "    [6.34068514963815, 52.3631895256562],\n",
       "    [6.33914653000434, 52.3626446506742],\n",
       "    [6.32698979439397, 52.3633260588481],\n",
       "    [6.33588886886419, 52.3668413010561],\n",
       "    [6.30853883795403, 52.3684775306057],\n",
       "    [6.31295601019247, 52.3627266312915],\n",
       "    [6.31519312162391, 52.3615855946565],\n",
       "    [6.31182784125961, 52.3557966399885]],\n",
       "   'profile': 'cycling-regular',\n",
       "   'profileName': 'cycling-regular',\n",
       "   'preference': 'fastest',\n",
       "   'format': 'geojson',\n",
       "   'geometry': True,\n",
       "   'radiuses': [-1.0]},\n",
       "  'engine': {'version': '9.0.0',\n",
       "   'build_date': '2025-01-27T14:56:02Z',\n",
       "   'graph_date': '2025-01-29T11:21:40Z'},\n",
       "  'system_message': \"Preference 'fastest' has been deprecated, using 'recommended'.\"}}"
      ]
     },
     "execution_count": null,
     "metadata": {},
     "output_type": "execute_result"
    }
   ],
   "source": [
    "#| hide\n",
    "client.directions(longlat_tpl_test, \n",
    "                  profile=route_profile,\n",
    "                  optimize_waypoints=True,\n",
    "                  instructions=False,\n",
    "                  geometry=True,\n",
    "                  format='geojson',\n",
    "                  preference='fastest',\n",
    "                  radiuses=-1)"
   ]
  },
  {
   "cell_type": "code",
   "execution_count": null,
   "metadata": {},
   "outputs": [
    {
     "data": {
      "text/plain": [
       "19"
      ]
     },
     "execution_count": null,
     "metadata": {},
     "output_type": "execute_result"
    }
   ],
   "source": [
    "#| hide\n",
    "t = create_optimized_route(start_address=settings['calculation']['startlocation'],\n",
    "                           df=df_test,\n",
    "                           route_profile=route_profile)\n",
    "\n",
    "t.keys()\n",
    "len(t['features'][0]['properties']['way_points'])"
   ]
  },
  {
   "cell_type": "code",
   "execution_count": null,
   "metadata": {},
   "outputs": [],
   "source": [
    "#| hide\n",
    "import nbdev; nbdev.nbdev_export()"
   ]
  }
 ],
 "metadata": {
  "kernelspec": {
   "display_name": "python3",
   "language": "python",
   "name": "python3"
  }
 },
 "nbformat": 4,
 "nbformat_minor": 4
}
