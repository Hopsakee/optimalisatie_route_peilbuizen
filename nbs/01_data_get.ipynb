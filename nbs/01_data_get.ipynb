{
 "cells": [
  {
   "cell_type": "markdown",
   "metadata": {},
   "source": [
    "# Data retrieval\n",
    "\n",
    "> Module die de benodigde peilbuis gegevens ophaalt uit de Azure database en voorbewerkt voor het berekenen van de optimale routes."
   ]
  },
  {
   "cell_type": "code",
   "execution_count": null,
   "metadata": {},
   "outputs": [],
   "source": [
    "#| default_exp data_get"
   ]
  },
  {
   "cell_type": "code",
   "execution_count": null,
   "metadata": {},
   "outputs": [],
   "source": [
    "#| hide\n",
    "from nbdev.showdoc import *"
   ]
  },
  {
   "cell_type": "code",
   "execution_count": null,
   "metadata": {},
   "outputs": [],
   "source": [
    "#| export\n",
    "from fastcore.utils import Path\n",
    "import yaml\n",
    "import pickle\n",
    "\n",
    "from WDODAzureSQL.azure_connector_local import AzureSQLDBConnector\n",
    "from project.utils import get_project_root, funcresults_to_pickle, load_settings"
   ]
  },
  {
   "cell_type": "markdown",
   "metadata": {},
   "source": [
    "## Get settings from the settings.yaml file"
   ]
  },
  {
   "cell_type": "code",
   "execution_count": null,
   "metadata": {},
   "outputs": [],
   "source": [
    "#| export\n",
    "settings = load_settings()"
   ]
  },
  {
   "cell_type": "markdown",
   "metadata": {},
   "source": [
    "## Get data from the Azure SQL database and place it in a pandas DataFrame.\n",
    "\n",
    "Optionaly store the DataFrame in a pickle file."
   ]
  },
  {
   "cell_type": "code",
   "execution_count": null,
   "metadata": {},
   "outputs": [],
   "source": [
    "#| export\n",
    "\n",
    "@funcresults_to_pickle(settings['files']['path_pickle_results'])\n",
    "def get_data_from_azuresql(sql_statement=None, save_pickle=False):\n",
    "    \"\"\"\n",
    "    Gets data from an Azure SQL database and returns a pandas DataFrame.\n",
    "\n",
    "    Parameters\n",
    "    ----------\n",
    "    jdbc_host_name : str\n",
    "        The host name of the Azure SQL database. Retrieved from settings.yaml\n",
    "    jdbc_database : str\n",
    "        The name of the Azure SQL database. Retrieved from settings.yaml\n",
    "    meta_runinfo_table : str, optional\n",
    "        The name of the table containing run info. If None, then no run info is read.\n",
    "        Retrieved from settings.yaml\n",
    "    sql_statement : str\n",
    "        The SQL statement to read in the dimensions of the data. Can be given\n",
    "        as parameter, if none is given, will be retrieved from settings.yaml\n",
    "\n",
    "    Returns\n",
    "    -------\n",
    "    peilbuizen_df : pandas.DataFrame\n",
    "        A pandas DataFrame containing the locations, latest measurement date and project\n",
    "        of the peilbuizen\n",
    "    \"\"\"\n",
    "\n",
    "\n",
    "    if not sql_statement:\n",
    "        sql_statement = settings['sql_statement']['peilbuizen']\n",
    "\n",
    "    print(f\"\\nMake connection with Azure SQL {settings['azure']['jdbc_hostname']}\\n\")\n",
    "    db_connection = AzureSQLDBConnector(jdbc_host_name=settings['azure']['jdbc_hostname'],\n",
    "                                    jdbc_database=settings['azure']['jdbc_database'],\n",
    "                                    jdbc_port=\"1433\",\n",
    "                                    meta_runinfo_table=None)\n",
    "\n",
    "    peilbuizen_df = db_connection.read_df(sql_statement)\n",
    "    print(f\"\\nRetrieved dimensions from database {settings['azure']['jdbc_database']}.\\n\")\n",
    "\n",
    "    return peilbuizen_df"
   ]
  },
  {
   "cell_type": "markdown",
   "metadata": {},
   "source": [
    "## Get data from a stored pickle file\n",
    "\n",
    "The pickle should contain the results that were retrieved and stored using the `get_data_from_azuresql` function."
   ]
  },
  {
   "cell_type": "code",
   "execution_count": null,
   "metadata": {},
   "outputs": [],
   "source": [
    "#| export\n",
    "\n",
    "def load_pickle(file_path):\n",
    "    with open(file_path, 'rb') as f:\n",
    "        obj = pickle.load(f)\n",
    "\n",
    "    return obj"
   ]
  },
  {
   "cell_type": "code",
   "execution_count": null,
   "metadata": {},
   "outputs": [
    {
     "data": {
      "text/html": [
       "<div>\n",
       "<style scoped>\n",
       "    .dataframe tbody tr th:only-of-type {\n",
       "        vertical-align: middle;\n",
       "    }\n",
       "\n",
       "    .dataframe tbody tr th {\n",
       "        vertical-align: top;\n",
       "    }\n",
       "\n",
       "    .dataframe thead th {\n",
       "        text-align: right;\n",
       "    }\n",
       "</style>\n",
       "<table border=\"1\" class=\"dataframe\">\n",
       "  <thead>\n",
       "    <tr style=\"text-align: right;\">\n",
       "      <th></th>\n",
       "      <th>Id</th>\n",
       "      <th>Longitude</th>\n",
       "      <th>latitude</th>\n",
       "      <th>latest_measure_date</th>\n",
       "      <th>project</th>\n",
       "    </tr>\n",
       "  </thead>\n",
       "  <tbody>\n",
       "    <tr>\n",
       "      <th>0</th>\n",
       "      <td>21GG512A;1058864</td>\n",
       "      <td>6.135953</td>\n",
       "      <td>52.711753</td>\n",
       "      <td>2025-01-08 13:13:41</td>\n",
       "      <td>None</td>\n",
       "    </tr>\n",
       "    <tr>\n",
       "      <th>1</th>\n",
       "      <td>17BC312A;1071534</td>\n",
       "      <td>6.554916</td>\n",
       "      <td>52.820904</td>\n",
       "      <td>2024-09-12 09:46:29</td>\n",
       "      <td>Oude Diep Mantinge Bos_Zand</td>\n",
       "    </tr>\n",
       "    <tr>\n",
       "      <th>2</th>\n",
       "      <td>WA258.207;29347</td>\n",
       "      <td>6.440575</td>\n",
       "      <td>52.794306</td>\n",
       "      <td>2024-08-29 07:47:40</td>\n",
       "      <td>Wabos-KRW</td>\n",
       "    </tr>\n",
       "    <tr>\n",
       "      <th>3</th>\n",
       "      <td>Veenweidepolders-PB14;29882</td>\n",
       "      <td>5.901383</td>\n",
       "      <td>52.803128</td>\n",
       "      <td>2024-06-17 10:48:27</td>\n",
       "      <td>Primair meetnet blok 3</td>\n",
       "    </tr>\n",
       "    <tr>\n",
       "      <th>4</th>\n",
       "      <td>MIDDENLOOP-PB5;29752</td>\n",
       "      <td>6.256332</td>\n",
       "      <td>52.884036</td>\n",
       "      <td>2024-04-16 07:29:57</td>\n",
       "      <td>Ecologisch Effect Beekherstel Middenloop Vledd...</td>\n",
       "    </tr>\n",
       "  </tbody>\n",
       "</table>\n",
       "</div>"
      ],
      "text/plain": [
       "                            Id  Longitude   latitude latest_measure_date  \\\n",
       "0             21GG512A;1058864   6.135953  52.711753 2025-01-08 13:13:41   \n",
       "1             17BC312A;1071534   6.554916  52.820904 2024-09-12 09:46:29   \n",
       "2              WA258.207;29347   6.440575  52.794306 2024-08-29 07:47:40   \n",
       "3  Veenweidepolders-PB14;29882   5.901383  52.803128 2024-06-17 10:48:27   \n",
       "4         MIDDENLOOP-PB5;29752   6.256332  52.884036 2024-04-16 07:29:57   \n",
       "\n",
       "                                             project  \n",
       "0                                               None  \n",
       "1                        Oude Diep Mantinge Bos_Zand  \n",
       "2                                          Wabos-KRW  \n",
       "3                             Primair meetnet blok 3  \n",
       "4  Ecologisch Effect Beekherstel Middenloop Vledd...  "
      ]
     },
     "execution_count": null,
     "metadata": {},
     "output_type": "execute_result"
    }
   ],
   "source": [
    "#| hide\n",
    "# This is only used to test\n",
    "file_path = settings['files']['path_pickle_results']\n",
    "file_name = \"get_data_from_azuresql_20250124_130111.pickle\"\n",
    "peilbuizen_df = load_pickle(file_path=Path(file_path) / file_name)\n",
    "peilbuizen_df.head()"
   ]
  },
  {
   "cell_type": "code",
   "execution_count": null,
   "metadata": {},
   "outputs": [],
   "source": [
    "#| hide\n",
    "import nbdev; nbdev.nbdev_export()"
   ]
  }
 ],
 "metadata": {
  "kernelspec": {
   "display_name": "python3",
   "language": "python",
   "name": "python3"
  }
 },
 "nbformat": 4,
 "nbformat_minor": 4
}
